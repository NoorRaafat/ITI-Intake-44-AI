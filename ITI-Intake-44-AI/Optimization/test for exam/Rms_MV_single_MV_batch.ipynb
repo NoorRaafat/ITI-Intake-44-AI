{
 "cells": [
  {
   "cell_type": "code",
   "execution_count": 3,
   "id": "5a3f3e45",
   "metadata": {},
   "outputs": [],
   "source": [
    "import numpy as np\n",
    "import matplotlib.pyplot as plt \n",
    "from sklearn.metrics import r2_score\n",
    "%matplotlib inline\n"
   ]
  },
  {
   "cell_type": "code",
   "execution_count": 4,
   "id": "3e6301ec",
   "metadata": {},
   "outputs": [
    {
     "data": {
      "text/plain": [
       "array([ 0.        ,  0.40816327,  0.81632653,  1.2244898 ,  1.63265306,\n",
       "        2.04081633,  2.44897959,  2.85714286,  3.26530612,  3.67346939,\n",
       "        4.08163265,  4.48979592,  4.89795918,  5.30612245,  5.71428571,\n",
       "        6.12244898,  6.53061224,  6.93877551,  7.34693878,  7.75510204,\n",
       "        8.16326531,  8.57142857,  8.97959184,  9.3877551 ,  9.79591837,\n",
       "       10.20408163, 10.6122449 , 11.02040816, 11.42857143, 11.83673469,\n",
       "       12.24489796, 12.65306122, 13.06122449, 13.46938776, 13.87755102,\n",
       "       14.28571429, 14.69387755, 15.10204082, 15.51020408, 15.91836735,\n",
       "       16.32653061, 16.73469388, 17.14285714, 17.55102041, 17.95918367,\n",
       "       18.36734694, 18.7755102 , 19.18367347, 19.59183673, 20.        ])"
      ]
     },
     "execution_count": 4,
     "metadata": {},
     "output_type": "execute_result"
    }
   ],
   "source": [
    "X = np.linspace(0,20)\n",
    "X"
   ]
  },
  {
   "cell_type": "code",
   "execution_count": 5,
   "id": "09f5f36b",
   "metadata": {},
   "outputs": [
    {
     "data": {
      "text/plain": [
       "array([  2.        ,   1.59183673,   1.18367347,   0.7755102 ,\n",
       "         0.36734694,  -0.04081633,  -0.44897959,  -0.85714286,\n",
       "        -1.26530612,  -1.67346939,  -2.08163265,  -2.48979592,\n",
       "        -2.89795918,  -3.30612245,  -3.71428571,  -4.12244898,\n",
       "        -4.53061224,  -4.93877551,  -5.34693878,  -5.75510204,\n",
       "        -6.16326531,  -6.57142857,  -6.97959184,  -7.3877551 ,\n",
       "        -7.79591837,  -8.20408163,  -8.6122449 ,  -9.02040816,\n",
       "        -9.42857143,  -9.83673469, -10.24489796, -10.65306122,\n",
       "       -11.06122449, -11.46938776, -11.87755102, -12.28571429,\n",
       "       -12.69387755, -13.10204082, -13.51020408, -13.91836735,\n",
       "       -14.32653061, -14.73469388, -15.14285714, -15.55102041,\n",
       "       -15.95918367, -16.36734694, -16.7755102 , -17.18367347,\n",
       "       -17.59183673, -18.        ])"
      ]
     },
     "execution_count": 5,
     "metadata": {},
     "output_type": "execute_result"
    }
   ],
   "source": [
    "a=-1\n",
    "b=2\n",
    "y=a*X+b\n",
    "y"
   ]
  },
  {
   "cell_type": "code",
   "execution_count": 6,
   "id": "622d3641",
   "metadata": {},
   "outputs": [
    {
     "data": {
      "text/plain": [
       "[<matplotlib.lines.Line2D at 0x1f618c9e8d0>]"
      ]
     },
     "execution_count": 6,
     "metadata": {},
     "output_type": "execute_result"
    },
    {
     "data": {
      "image/png": "[encoded data removed]",
      "text/plain": [
       "<Figure size 640x480 with 1 Axes>"
      ]
     },
     "metadata": {},
     "output_type": "display_data"
    }
   ],
   "source": [
    "plt.plot(X,y,marker='o')"
   ]
  },
  {
   "cell_type": "code",
   "execution_count": 7,
   "id": "a4bfbe6c",
   "metadata": {},
   "outputs": [],
   "source": [
    "data2 = np.genfromtxt('MultiVarLR.csv',delimiter=',')"
   ]
  },
  {
   "cell_type": "code",
   "execution_count": 8,
   "id": "aca8eb95",
   "metadata": {},
   "outputs": [
    {
     "data": {
      "text/plain": [
       "((25, 3), (25, 1))"
      ]
     },
     "execution_count": 8,
     "metadata": {},
     "output_type": "execute_result"
    }
   ],
   "source": [
    "X2= data2[:,0:3]\n",
    "y2=data2[:,-1].reshape(-1,1)\n",
    "X2.shape,y2.shape"
   ]
  },
  {
   "cell_type": "code",
   "execution_count": 10,
   "id": "b30f5883",
   "metadata": {},
   "outputs": [
    {
     "data": {
      "text/plain": [
       "array([[0.],\n",
       "       [0.],\n",
       "       [0.],\n",
       "       [0.]])"
      ]
     },
     "execution_count": 10,
     "metadata": {},
     "output_type": "execute_result"
    }
   ],
   "source": [
    "# create 4 thetas because i have 4 features so need 4 thetas \n",
    "thetas=np.zeros((4,1))\n",
    "thetas"
   ]
  },
  {
   "cell_type": "markdown",
   "id": "bdaf16ea",
   "metadata": {},
   "source": [
    "### RMS_stocatic_multivarible"
   ]
  },
  {
   "cell_type": "code",
   "execution_count": 38,
   "id": "cdbc8ca9",
   "metadata": {},
   "outputs": [],
   "source": [
    "def Rms_mv_batch(X,y,learining_rate=0.0001,beta=0.9,epsloin=1e-08,n_iteration=1000): \n",
    "    m=len(X)\n",
    "    theta_vector = np.zeros((X.shape[1], 1)) #shape (n,1)\n",
    "    V_theda = np.zeros((X.shape[1], 1)) #shape (n,1)\n",
    "    all_theta=[]\n",
    "    hypothesis_history=[]\n",
    "    all_loss=[]\n",
    "    for i in range(n_iteration): # loop for epocis \n",
    "        #step 2 : h0(x)\n",
    "        y_hat=X@theta_vector\n",
    "        hypothesis_history.append(y_hat)\n",
    "        print(f\"****************** Iteration {i} ********************\\n \")\n",
    "        print(f\"\\n h(x):{y_hat}\")\n",
    "        \n",
    "        \n",
    "         #step3 mean square error #mse=loss(j)=error\n",
    "        error_vector=y_hat-y\n",
    "        loss = np.sum(error_vector**2) / (2 * m)\n",
    "        #to store all error \n",
    "        all_loss.append(loss)\n",
    "        print('error_vector:\\n', error_vector, \"\\n\")\n",
    "        print('loss =', loss, \"\\n\")\n",
    "        \n",
    "       # to store all theta for plot\n",
    "        all_theta.append(theta_vector.flatten().tolist())\n",
    "         \n",
    "        #step 4    \n",
    "        gradient_vector=(X.T@error_vector).reshape(-1,1)\n",
    "        \n",
    "        \n",
    "        # Stopping using gradient\n",
    "        gradient_norm = np.linalg.norm(gradient_vector)\n",
    "        print(f\"\\n Gradient Vector Norm: {gradient_norm}\")\n",
    "        if gradient_norm < 0.001:\n",
    "            break\n",
    "        # Stopping using loss\n",
    "        if (i > 0) and abs(all_loss[i-1] - all_loss[i]) < 0.001:\n",
    "            break\n",
    "            \n",
    "        #updating \n",
    "        print(f\"V_theda{i} : \", V_theda, \"\\n\")\n",
    "        V_theda=beta * V_theda + (1-beta) * (gradient_vector**2)\n",
    "        print(f\"V_theda_updated{i} : \", V_theda, \"\\n\")\n",
    "\n",
    "       #update_theta\n",
    "        theta_vector=theta_vector - (learining_rate /(np.sqrt(V_theda) + epsloin)) * gradient_vector\n",
    "        print(\"theta_ New :\", theta_vector , \"\\n\")\n",
    "    all_theta=np.array(all_theta)\n",
    "    return theta_vector,all_loss,hypothesis_history,all_theta"
   ]
  },
  {
   "cell_type": "code",
   "execution_count": 39,
   "id": "638c63f6",
   "metadata": {},
   "outputs": [
    {
     "name": "stdout",
     "output_type": "stream",
     "text": [
      "****************** Iteration 0 ********************\n",
      " \n",
      "\n",
      " h(x):[[0.]\n",
      " [0.]\n",
      " [0.]\n",
      " [0.]\n",
      " [0.]\n",
      " [0.]\n",
      " [0.]\n",
      " [0.]\n",
      " [0.]\n",
      " [0.]\n",
      " [0.]\n",
      " [0.]\n",
      " [0.]\n",
      " [0.]\n",
      " [0.]\n",
      " [0.]\n",
      " [0.]\n",
      " [0.]\n",
      " [0.]\n",
      " [0.]\n",
      " [0.]\n",
      " [0.]\n",
      " [0.]\n",
      " [0.]\n",
      " [0.]]\n",
      "error_vector:\n",
      " [[-152.]\n",
      " [-185.]\n",
      " [-180.]\n",
      " [-196.]\n",
      " [-142.]\n",
      " [-101.]\n",
      " [-149.]\n",
      " [-115.]\n",
      " [-175.]\n",
      " [-164.]\n",
      " [-141.]\n",
      " [-141.]\n",
      " [-184.]\n",
      " [-152.]\n",
      " [-148.]\n",
      " [-192.]\n",
      " [-147.]\n",
      " [-183.]\n",
      " [-177.]\n",
      " [-159.]\n",
      " [-177.]\n",
      " [-175.]\n",
      " [-175.]\n",
      " [-149.]\n",
      " [-192.]] \n",
      "\n",
      "loss = 13405.98 \n",
      "\n",
      "\n",
      " Gradient Vector Norm: 572938.6497304925\n",
      "V_theda0 :  [[0.]\n",
      " [0.]\n",
      " [0.]\n",
      " [0.]] \n",
      "\n",
      "V_theda_updated0 :  [[1.64106010e+06]\n",
      " [1.06860341e+10]\n",
      " [1.08030542e+10]\n",
      " [1.13351402e+10]] \n",
      "\n",
      "theta_ New : [[0.00031623]\n",
      " [0.00031623]\n",
      " [0.00031623]\n",
      " [0.00031623]] \n",
      "\n"
     ]
    }
   ],
   "source": [
    " \n",
    "theta_vector,all_loss,hypothesis_history,all_theta =Rms_mv_batch(X2,y2, learining_rate=0.0001, beta=0.9, epsloin=1e-05, n_iteration=1)\n"
   ]
  },
  {
   "cell_type": "code",
   "execution_count": null,
   "id": "3c703571",
   "metadata": {},
   "outputs": [],
   "source": []
  }
 ],
 "metadata": {
  "kernelspec": {
   "display_name": "Python 3 (ipykernel)",
   "language": "python",
   "name": "python3"
  },
  "language_info": {
   "codemirror_mode": {
    "name": "ipython",
    "version": 3
   },
   "file_extension": ".py",
   "mimetype": "text/x-python",
   "name": "python",
   "nbconvert_exporter": "python",
   "pygments_lexer": "ipython3",
   "version": "3.11.5"
  }
 },
 "nbformat": 4,
 "nbformat_minor": 5
}
