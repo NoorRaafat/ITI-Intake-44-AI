{
 "cells": [
  {
   "cell_type": "markdown",
   "metadata": {
    "id": "63v-l7th8EDL"
   },
   "source": [
    "Implement the L1 and L2 loss functions\n",
    "Exercise: Implement the numpy vectorized version of the L1 loss. You may find the function abs(x) (absolute value of x) useful."
   ]
  },
  {
   "cell_type": "code",
   "execution_count": 1,
   "metadata": {
    "id": "CuRlfcmEv78_"
   },
   "outputs": [],
   "source": [
    "import numpy as np\n"
   ]
  },
  {
   "cell_type": "code",
   "execution_count": 12,
   "metadata": {
    "id": "u144WVfS92XZ"
   },
   "outputs": [
    {
     "name": "stdout",
     "output_type": "stream",
     "text": [
      "L1 = 1.1\n",
      "L2 = 0.43\n"
     ]
    }
   ],
   "source": [
    "# mean absluot error =∑|y-yhat|\n",
    "def L1(yhat, y):\n",
    "    abs_diff = np.abs(y - yhat)\n",
    "    loss=np.sum(abs_diff)\n",
    "    return loss\n",
    "\n",
    "yhat = np.array([.9, 0.2, 0.1, .4, .9])\n",
    "y = np.array([1, 0, 0, 1, 1])\n",
    "\n",
    "l1_loss = L1(yhat, y)\n",
    "print(\"L1 = \" + str(l1_loss))\n",
    "\n",
    "\n",
    "## mean Squared error =∑(y-yhat)^2\n",
    "def L2(yhat, y):\n",
    "    loss = np.sum(np.power(y-yhat,2))\n",
    "    return loss\n",
    "\n",
    "yhat = np.array([.9, 0.2, 0.1, .4, .9])\n",
    "y    = np.array([1 ,  0 ,  0 ,  1, 1])\n",
    "l2_loss = L2(yhat,y)\n",
    "print(\"L2 = \" + str(l2_loss))"
   ]
  },
  {
   "cell_type": "markdown",
   "metadata": {
    "id": "WzLsgfXPvrRD"
   },
   "source": [
    "# comparing the dot product using parallelism in python vs numpy_dot_product vs using the for_loop and compute the time needed for each"
   ]
  },
  {
   "cell_type": "code",
   "execution_count": 16,
   "metadata": {
    "id": "ezvYDVBw_esb"
   },
   "outputs": [],
   "source": [
    "import numpy as np"
   ]
  },
  {
   "cell_type": "code",
   "execution_count": 17,
   "metadata": {
    "id": "mwTEr2JiwKTW"
   },
   "outputs": [],
   "source": [
    "import time"
   ]
  },
  {
   "cell_type": "code",
   "execution_count": 18,
   "metadata": {
    "id": "IXAwnKCcwKdx"
   },
   "outputs": [],
   "source": [
    "a = np.random.randn(10000)\n",
    "b = np.random.randn(10000)"
   ]
  },
  {
   "cell_type": "code",
   "execution_count": 19,
   "metadata": {
    "id": "SebPkWpCwKgL"
   },
   "outputs": [],
   "source": [
    "#using for loop\n",
    "def dot_product_for_loop(a,b):\n",
    "    result=0\n",
    "    for i in range(len(a)):\n",
    "            result+=a[i]*b[i]\n",
    "    return result\n",
    "\n"
   ]
  },
  {
   "cell_type": "code",
   "execution_count": 20,
   "metadata": {
    "colab": {
     "base_uri": "https://localhost:8080/"
    },
    "id": "1q0nplyJwKji",
    "outputId": "3bd2b35e-cbae-4c81-aa3a-ed30b452bf83"
   },
   "outputs": [
    {
     "name": "stdout",
     "output_type": "stream",
     "text": [
      "Time in sec: 24.15625\n"
     ]
    }
   ],
   "source": [
    "tic = time.process_time()\n",
    "\n",
    "for _ in range(10000):\n",
    "    dot_product_for_loop(a, b)\n",
    "\n",
    "toc = time.process_time()\n",
    "\n",
    "\n",
    "dt1 = toc - tic\n",
    "print(\"Time in sec:\", dt1)"
   ]
  },
  {
   "cell_type": "code",
   "execution_count": 21,
   "metadata": {
    "colab": {
     "base_uri": "https://localhost:8080/"
    },
    "id": "nlelX5qu8GxQ",
    "outputId": "1a0ff023-ccef-4c2a-9fcd-be2267224e33"
   },
   "outputs": [
    {
     "name": "stdout",
     "output_type": "stream",
     "text": [
      "Time in sec: 0.078125\n"
     ]
    }
   ],
   "source": [
    "#using numpy_product\n",
    "tic = time.process_time()\n",
    "\n",
    "for _ in range(10000):\n",
    "    a @ b\n",
    "\n",
    "toc = time.process_time()\n",
    "\n",
    "\n",
    "dt1 = toc - tic\n",
    "print(\"Time in sec:\", dt1)"
   ]
  },
  {
   "cell_type": "code",
   "execution_count": null,
   "metadata": {
    "colab": {
     "base_uri": "https://localhost:8080/"
    },
    "id": "ADC9H6DDHOpd",
    "outputId": "2a2cd703-ca95-49f3-ab8f-3e5910dec7da"
   },
   "outputs": [],
   "source": [
    "#the dot product using parallelism\n",
    "tic = time.process_time()\n",
    "dot_product = sum(a * b for a, b in zip(a, b))\n",
    "\n",
    "toc = time.process_time()\n",
    "\n",
    "print(\"Dot Product:\", dot_product)\n",
    "dt1 = toc - tic\n",
    "print(\"Time in sec:\", dt1)"
   ]
  },
  {
   "cell_type": "code",
   "execution_count": null,
   "metadata": {
    "colab": {
     "base_uri": "https://localhost:8080/"
    },
    "id": "7igUxXOsCt5v",
    "outputId": "374d2183-8f43-4da4-c7f8-1c9b5f71aa05"
   },
   "outputs": [],
   "source": [
    "#using  another answer for parallelism\n",
    "import multiprocessing\n",
    "def matrix_multiply(element): \n",
    "    A, B = element \n",
    "    return np.dot(A, B)\n",
    "\n",
    "start = time.process_time()\n",
    "with multiprocessing.Pool(processes=2) as pool:\n",
    "    parallel_result = np.sum(pool.map(matrix_multiply, zip(a, b)))\n",
    "print(\"Parallel Dot Product:\", parallel_result)\n",
    "end = time.process_time()\n",
    "diff2 = end - start\n",
    "print(\"Time in sec:\", dt1)"
   ]
  },
  {
   "cell_type": "code",
   "execution_count": null,
   "metadata": {
    "id": "b9olF9uyCuI1"
   },
   "outputs": [],
   "source": []
  },
  {
   "cell_type": "code",
   "execution_count": null,
   "metadata": {
    "id": "aj1hke9XCuMK"
   },
   "outputs": [],
   "source": []
  }
 ],
 "metadata": {
  "colab": {
   "provenance": []
  },
  "kernelspec": {
   "display_name": "Python 3 (ipykernel)",
   "language": "python",
   "name": "python3"
  },
  "language_info": {
   "codemirror_mode": {
    "name": "ipython",
    "version": 3
   },
   "file_extension": ".py",
   "mimetype": "text/x-python",
   "name": "python",
   "nbconvert_exporter": "python",
   "pygments_lexer": "ipython3",
   "version": "3.11.5"
  }
 },
 "nbformat": 4,
 "nbformat_minor": 1
}
