{
 "cells": [
  {
   "cell_type": "markdown",
   "metadata": {},
   "source": [
    "# LAB 1: Probability Concepts, Indepdenece and Random Variables\n",
    "\n",
    "In this lab you will use python to study the following topics:\n",
    "\n",
    "- How to simulate random experiment outcomes using numpy arrays.\n",
    "- How to estimate the probability of an event using the relative frequency approach.\n",
    "- Simulate independent events.\n",
    "- Calculate arthemitic mean, sample variance, and sample standard deviation for a dataset.\n",
    "- Calculate covariance and correlation coeffecient of two random variables.\n"
   ]
  },
  {
   "cell_type": "markdown",
   "metadata": {},
   "source": [
    "# First: you should run this cell"
   ]
  },
  {
   "cell_type": "code",
   "execution_count": 21,
   "metadata": {},
   "outputs": [],
   "source": [
    "# Make all numpy available via shorter 'np' prefix\n",
    "import numpy as np\n",
    "\n",
    "# matplotlib library\n",
    "import matplotlib.pyplot as plt\n",
    "\n",
    "import pandas as pd"
   ]
  },
  {
   "cell_type": "markdown",
   "metadata": {},
   "source": [
    "# Problem 1\n",
    "\n",
    "Use numpy to simulate the vector outcomes for repeating the following random experiments $1000$ times and use the relative frequency to compute the probability of the corresponding events:\n",
    "    \n",
    "1. **Experiment:** Flipping a fair coin, **Event:** A head occurs.\n",
    "     \n",
    "Observe how changing the number of repetition affects the computed probabilities.\n",
    "\n",
    "**Hints:** \n",
    "- Use [numpy.random.randint](https://numpy.org/doc/stable/reference/random/generated/numpy.random.randint.html) or [numpy.random.choice](https://numpy.org/doc/stable/reference/random/generated/numpy.random.choice.html) to simulate the experiment.\n",
    "- Other useful functions [numpy.arange](https://numpy.org/doc/stable/reference/generated/numpy.arange.html), [numpy.cumsum](https://numpy.org/doc/stable/reference/generated/numpy.cumsum.html), [numpy.sum](https://numpy.org/doc/stable/reference/generated/numpy.sum.html), and [matplotlib.pyplot.plot](https://matplotlib.org/stable/api/_as_gen/matplotlib.pyplot.plot.html)"
   ]
  },
  {
   "cell_type": "code",
   "execution_count": 17,
   "metadata": {},
   "outputs": [
    {
     "name": "stdout",
     "output_type": "stream",
     "text": [
      "n = 10, P(e) = 0.545\n",
      "-----------------------------------------\n",
      "n = 50, P(e) = 0.49\n",
      "-----------------------------------------\n",
      "n = 100, P(e) = 0.485\n",
      "-----------------------------------------\n",
      "n = 500, P(e) = 0.487\n",
      "-----------------------------------------\n",
      "n = 1000, P(e) = 0.486\n",
      "-----------------------------------------\n",
      "n = 5000, P(e) = 0.499\n",
      "-----------------------------------------\n",
      "n = 1000, P(e) = 0.486\n",
      "-----------------------------------------\n",
      "n = 5000, P(e) = 0.499\n",
      "-----------------------------------------\n",
      "n = 100000, P(e) = 0.5\n",
      "-----------------------------------------\n"
     ]
    },
    {
     "data": {
      "text/plain": [
       "[<matplotlib.lines.Line2D at 0x2314fd14710>]"
      ]
     },
     "execution_count": 17,
     "metadata": {},
     "output_type": "execute_result"
    },
    {
     "data": {
      "image/png": "[encoded data removed]",
      "text/plain": [
       "<Figure size 640x480 with 1 Axes>"
      ]
     },
     "metadata": {},
     "output_type": "display_data"
    }
   ],
   "source": [
    "# random == module (inside more function )\n",
    "\n",
    "n=100001  # exclusive 100001\n",
    "tests=np.random.randint(0,2,size=n)\n",
    "trials=np.arange(1,n+1)\n",
    "# fun cumsum(cumulative sum )\n",
    "relative_freq=np.cumsum(tests)/trials\n",
    "\n",
    "# print(relative_freq.shape)\n",
    "\n",
    "printlist=[10,50,100,500,1000,5000,1000,5000,100000] # this is the numbers below yoy try by it  \n",
    "for x in printlist:\n",
    "    \n",
    "    print(f\"n = {x}, P(e) = {np.round(relative_freq[x],3)}\")\n",
    "    print(\"-----------------------------------------\")\n",
    "\n",
    "plt.axhline(y=0.5,color=\"red\")\n",
    "plt.plot(trials,relative_freq)\n"
   ]
  },
  {
   "cell_type": "code",
   "execution_count": 2,
   "metadata": {},
   "outputs": [
    {
     "name": "stdout",
     "output_type": "stream",
     "text": [
      "n = 10, P(e) = 0.6\n",
      "-----------------------------------------\n",
      "n = 50, P(e) = 0.48\n",
      "-----------------------------------------\n",
      "n = 100, P(e) = 0.52\n",
      "-----------------------------------------\n",
      "n = 500, P(e) = 0.498\n",
      "-----------------------------------------\n",
      "n = 1000, P(e) = 0.475\n",
      "-----------------------------------------\n",
      "n = 5000, P(e) = 0.4998\n",
      "-----------------------------------------\n",
      "n = 10000, P(e) = 0.5022\n",
      "-----------------------------------------\n",
      "n = 50000, P(e) = 0.5011\n",
      "-----------------------------------------\n",
      "n = 100000, P(e) = 0.49788\n",
      "-----------------------------------------\n"
     ]
    },
    {
     "data": {
      "text/plain": [
       "<matplotlib.lines.Line2D at 0x15b5ea184c0>"
      ]
     },
     "execution_count": 2,
     "metadata": {},
     "output_type": "execute_result"
    },
    {
     "data": {
      "image/png": "[encoded data removed]",
      "text/plain": [
       "<Figure size 432x288 with 1 Axes>"
      ]
     },
     "metadata": {
      "needs_background": "light"
     },
     "output_type": "display_data"
    }
   ],
   "source": [
    "#type your code here:\n"
   ]
  },
  {
   "cell_type": "markdown",
   "metadata": {},
   "source": [
    "2. **Experiment:** Rolling a fair die, **Event:** Number 5 occurs."
   ]
  },
  {
   "cell_type": "code",
   "execution_count": 71,
   "metadata": {},
   "outputs": [
    {
     "name": "stdout",
     "output_type": "stream",
     "text": [
      "n = 10, P(e) = 0.182\n",
      "-----------------------------------------\n",
      "n = 50, P(e) = 0.196\n",
      "-----------------------------------------\n",
      "n = 100, P(e) = 0.178\n",
      "-----------------------------------------\n",
      "n = 500, P(e) = 0.174\n",
      "-----------------------------------------\n",
      "n = 1000, P(e) = 0.169\n",
      "-----------------------------------------\n",
      "n = 5000, P(e) = 0.169\n",
      "-----------------------------------------\n",
      "n = 10000, P(e) = 0.17\n",
      "-----------------------------------------\n",
      "n = 50000, P(e) = 0.166\n",
      "-----------------------------------------\n",
      "n = 100000, P(e) = 0.167\n",
      "-----------------------------------------\n"
     ]
    },
    {
     "data": {
      "text/plain": [
       "[<matplotlib.lines.Line2D at 0x23152074310>]"
      ]
     },
     "execution_count": 71,
     "metadata": {},
     "output_type": "execute_result"
    },
    {
     "data": {
      "image/png": "[encoded data removed]",
      "text/plain": [
       "<Figure size 640x480 with 1 Axes>"
      ]
     },
     "metadata": {},
     "output_type": "display_data"
    }
   ],
   "source": [
    "n=100001\n",
    "tests=np.random.choice([1,2,3,4,5,6],size=n)\n",
    "\n",
    "event_occur=[]\n",
    "for x in range(n):\n",
    "    if tests[x]==5:\n",
    "        event_occur.append(1)\n",
    "    else:\n",
    "        event_occur.append(0)\n",
    "\n",
    "trials=np.arange(1,n+1)\n",
    "relative_freq=np.cumsum(event_occur)/trials\n",
    "\n",
    "\n",
    "printlist=[10,50,100,500,1000,5000,10000,50000,100000]\n",
    "for x in printlist:\n",
    "    print(f\"n = {x}, P(e) = {np.round(relative_freq[x],3)}\")\n",
    "    print(\"-----------------------------------------\")\n",
    " \n",
    "  \n",
    "\n",
    "\n",
    "plt.axhline(y=0.167,color=\"red\")\n",
    "plt.plot(trials,relative_freq)\n",
    "\n",
    "\n",
    "# n=100001\n",
    "# tests=np.random.randint(1,7,size=(n,2)).sum(axis=1)\n",
    "\n",
    "# event_occur=[]\n",
    "# for x in range(n):\n",
    "#     if tests[x]==5:\n",
    "        \n",
    "#         event_occur.append(1)\n",
    "#     else:\n",
    "#         event_occur.append(0)\n",
    "\n",
    "# trials=np.arange(1,n+1)\n",
    "# relative_freq=np.cumsum(event_occur)/trials\n",
    "\n",
    "\n",
    "# printlist=[10,50,100,500,1000,5000,10000,50000,100000]\n",
    "# for x in printlist:\n",
    "    \n",
    "#     print(f\"n = {x}, P(e) = {np.round(relative_freq[x],3)}\")\n",
    "#     print(\"-----------------------------------------\")\n",
    " \n",
    "\n",
    "    \n",
    "    \n",
    "    \n",
    "# plt.axhline(y=0.167,color=\"red\")\n",
    "# plt.plot(trials,relative_freq)\n",
    "\n",
    "\n"
   ]
  },
  {
   "cell_type": "code",
   "execution_count": 3,
   "metadata": {},
   "outputs": [
    {
     "name": "stdout",
     "output_type": "stream",
     "text": [
      "n = 10, P(e) = 0.2\n",
      "-----------------------------------------\n",
      "n = 50, P(e) = 0.12\n",
      "-----------------------------------------\n",
      "n = 100, P(e) = 0.19\n",
      "-----------------------------------------\n",
      "n = 500, P(e) = 0.166\n",
      "-----------------------------------------\n",
      "n = 1000, P(e) = 0.151\n",
      "-----------------------------------------\n",
      "n = 5000, P(e) = 0.1648\n",
      "-----------------------------------------\n",
      "n = 10000, P(e) = 0.1663\n",
      "-----------------------------------------\n",
      "n = 50000, P(e) = 0.1661\n",
      "-----------------------------------------\n",
      "n = 100000, P(e) = 0.16817\n",
      "-----------------------------------------\n"
     ]
    },
    {
     "data": {
      "text/plain": [
       "<matplotlib.lines.Line2D at 0x15b5f1cf0d0>"
      ]
     },
     "execution_count": 3,
     "metadata": {},
     "output_type": "execute_result"
    },
    {
     "data": {
      "image/png": "[encoded data removed]",
      "text/plain": [
       "<Figure size 432x288 with 1 Axes>"
      ]
     },
     "metadata": {
      "needs_background": "light"
     },
     "output_type": "display_data"
    }
   ],
   "source": [
    "#type your code here:\n"
   ]
  },
  {
   "cell_type": "markdown",
   "metadata": {},
   "source": [
    "3. **Experiment:** Rolling a fair die, **Event:** A number greater than 3 occurs."
   ]
  },
  {
   "cell_type": "code",
   "execution_count": 31,
   "metadata": {},
   "outputs": [
    {
     "name": "stdout",
     "output_type": "stream",
     "text": [
      "n = 10, P(e) = 0.273\n",
      "-----------------------------------------\n",
      "n = 50, P(e) = 0.451\n",
      "-----------------------------------------\n",
      "n = 100, P(e) = 0.485\n",
      "-----------------------------------------\n",
      "n = 500, P(e) = 0.505\n",
      "-----------------------------------------\n",
      "n = 1000, P(e) = 0.53\n",
      "-----------------------------------------\n",
      "n = 5000, P(e) = 0.497\n",
      "-----------------------------------------\n",
      "n = 10000, P(e) = 0.497\n",
      "-----------------------------------------\n",
      "n = 50000, P(e) = 0.501\n",
      "-----------------------------------------\n",
      "n = 100000, P(e) = 0.501\n",
      "-----------------------------------------\n"
     ]
    },
    {
     "data": {
      "text/plain": [
       "[<matplotlib.lines.Line2D at 0x23151f8c6d0>]"
      ]
     },
     "execution_count": 31,
     "metadata": {},
     "output_type": "execute_result"
    },
    {
     "data": {
      "image/png": "[encoded data removed]",
      "text/plain": [
       "<Figure size 640x480 with 1 Axes>"
      ]
     },
     "metadata": {},
     "output_type": "display_data"
    }
   ],
   "source": [
    "n=100001\n",
    "tests=np.random.choice([1,2,3,4,5,6],size=n)\n",
    "event_occur=[]\n",
    "for x in range(n):\n",
    "    if tests[x]>3:\n",
    "        event_occur.append(1)\n",
    "    else:\n",
    "        event_occur.append(0)\n",
    "\n",
    "trials=np.arange(1,n+1)\n",
    "relative_freq=np.cumsum(event_occur)/trials\n",
    "\n",
    "\n",
    "printlist=[10,50,100,500,1000,5000,10000,50000,100000]\n",
    "for x in printlist:\n",
    "    print(f\"n = {x}, P(e) = {np.round(relative_freq[x],3)}\")\n",
    "    print(\"-----------------------------------------\")\n",
    " \n",
    "  \n",
    "\n",
    "\n",
    "plt.axhline(y=0.5,color=\"red\")\n",
    "plt.plot(trials,relative_freq)"
   ]
  },
  {
   "cell_type": "code",
   "execution_count": 4,
   "metadata": {},
   "outputs": [
    {
     "name": "stdout",
     "output_type": "stream",
     "text": [
      "n = 10, P(e) = 0.6\n",
      "-----------------------------------------\n",
      "n = 50, P(e) = 0.48\n",
      "-----------------------------------------\n",
      "n = 100, P(e) = 0.44\n",
      "-----------------------------------------\n",
      "n = 500, P(e) = 0.496\n",
      "-----------------------------------------\n",
      "n = 1000, P(e) = 0.489\n",
      "-----------------------------------------\n",
      "n = 5000, P(e) = 0.5052\n",
      "-----------------------------------------\n",
      "n = 10000, P(e) = 0.4962\n",
      "-----------------------------------------\n",
      "n = 50000, P(e) = 0.49842\n",
      "-----------------------------------------\n",
      "n = 100000, P(e) = 0.49983\n",
      "-----------------------------------------\n"
     ]
    },
    {
     "data": {
      "text/plain": [
       "<matplotlib.lines.Line2D at 0x15b5f24f070>"
      ]
     },
     "execution_count": 4,
     "metadata": {},
     "output_type": "execute_result"
    },
    {
     "data": {
      "image/png": "[encoded data removed]",
      "text/plain": [
       "<Figure size 432x288 with 1 Axes>"
      ]
     },
     "metadata": {
      "needs_background": "light"
     },
     "output_type": "display_data"
    }
   ],
   "source": [
    "#type your code here:\n"
   ]
  },
  {
   "cell_type": "markdown",
   "metadata": {},
   "source": [
    "4. **Experiment:** Rolling two fair dice, **Event:** Sum of two dice equal 5."
   ]
  },
  {
   "cell_type": "code",
   "execution_count": 70,
   "metadata": {},
   "outputs": [
    {
     "name": "stdout",
     "output_type": "stream",
     "text": [
      "n = 10, P(e) = 0.091\n",
      "-----------------------------------------\n",
      "n = 50, P(e) = 0.098\n",
      "-----------------------------------------\n",
      "n = 100, P(e) = 0.109\n",
      "-----------------------------------------\n",
      "n = 500, P(e) = 0.086\n",
      "-----------------------------------------\n",
      "n = 1000, P(e) = 0.097\n",
      "-----------------------------------------\n",
      "n = 5000, P(e) = 0.099\n",
      "-----------------------------------------\n",
      "n = 10000, P(e) = 0.103\n",
      "-----------------------------------------\n",
      "n = 50000, P(e) = 0.108\n",
      "-----------------------------------------\n",
      "n = 100000, P(e) = 0.109\n",
      "-----------------------------------------\n"
     ]
    },
    {
     "data": {
      "image/png": "[encoded data removed]",
      "text/plain": [
       "<Figure size 640x480 with 1 Axes>"
      ]
     },
     "metadata": {},
     "output_type": "display_data"
    }
   ],
   "source": [
    "n=100001\n",
    "\n",
    "# t1=[1,2,3,4,5,6]\n",
    "\n",
    "\n",
    "n=100001\n",
    "\n",
    "t1=[1,2,3,4,5,6]\n",
    "\n",
    "\n",
    "\n",
    "\n",
    "t1r=np.random.choice(t1,size=n)\n",
    "t2r=np.random.choice(t1,size=n)\n",
    "event_occur=[]\n",
    "for x in range(n):\n",
    "    if t1r[x]+t2r[x]==5:\n",
    "        event_occur.append(1)\n",
    "    else:\n",
    "        event_occur.append(0)\n",
    "\n",
    "\n",
    "\n",
    "\n",
    "trials=np.arange(1,n+1)\n",
    "relative_freq=np.cumsum(event_occur)/(trials.T)\n",
    "\n",
    "\n",
    "\n",
    "printlist=[10,50,100,500,1000,5000,10000,50000,100000]\n",
    "for x in printlist:\n",
    "    \n",
    "    print(f\"n = {x}, P(e) = {np.round(relative_freq[x],3)}\")\n",
    "    print(\"-----------------------------------------\")\n",
    " \n",
    "  \n",
    "\n",
    "\n",
    "plt.axhline(y=1/9,color=\"red\")\n",
    "plt.plot(trials,relative_freq)\n",
    "plt.grid(True)\n",
    "plt.show()"
   ]
  },
  {
   "cell_type": "code",
   "execution_count": 5,
   "metadata": {},
   "outputs": [
    {
     "name": "stdout",
     "output_type": "stream",
     "text": [
      "n = 10, P(e) = 0.1\n",
      "-----------------------------------------\n",
      "n = 50, P(e) = 0.04\n",
      "-----------------------------------------\n",
      "n = 100, P(e) = 0.11\n",
      "-----------------------------------------\n",
      "n = 500, P(e) = 0.116\n",
      "-----------------------------------------\n",
      "n = 1000, P(e) = 0.112\n",
      "-----------------------------------------\n",
      "n = 5000, P(e) = 0.1134\n",
      "-----------------------------------------\n",
      "n = 10000, P(e) = 0.1056\n",
      "-----------------------------------------\n",
      "n = 50000, P(e) = 0.10812\n",
      "-----------------------------------------\n",
      "n = 100000, P(e) = 0.10955\n",
      "-----------------------------------------\n"
     ]
    },
    {
     "data": {
      "text/plain": [
       "<matplotlib.lines.Line2D at 0x15b5f2b5ee0>"
      ]
     },
     "execution_count": 5,
     "metadata": {},
     "output_type": "execute_result"
    },
    {
     "data": {
      "image/png": "[encoded data removed]",
      "text/plain": [
       "<Figure size 432x288 with 1 Axes>"
      ]
     },
     "metadata": {
      "needs_background": "light"
     },
     "output_type": "display_data"
    }
   ],
   "source": [
    "#type your code here:\n"
   ]
  },
  {
   "cell_type": "markdown",
   "metadata": {},
   "source": [
    "# Problem 2\n",
    "\n",
    "Simulate the experiment of tossing $1000$ times a coin with probability of **head (coded as $1$) equal to $0.4$** and probability of **tail (coded as $0$) equal to $0.6$**. How can you check if the simulation of the experiment of been running as expected.\n",
    "\n",
    "**Hint**: Use [matplotlib.pyplot.hist¶\n",
    "](https://matplotlib.org/stable/api/_as_gen/matplotlib.pyplot.hist.html)"
   ]
  },
  {
   "cell_type": "code",
   "execution_count": 72,
   "metadata": {},
   "outputs": [
    {
     "data": {
      "image/png": "[encoded data removed]",
      "text/plain": [
       "<Figure size 640x480 with 1 Axes>"
      ]
     },
     "metadata": {},
     "output_type": "display_data"
    }
   ],
   "source": [
    "test=np.random.choice([0,1],size=1000,p=[0.6,0.4])\n",
    "plt.hist(test)\n",
    "plt.grid(True)\n",
    "plt.show()"
   ]
  },
  {
   "cell_type": "code",
   "execution_count": 6,
   "metadata": {},
   "outputs": [
    {
     "data": {
      "image/png": "[encoded data removed]",
      "text/plain": [
       "<Figure size 432x288 with 1 Axes>"
      ]
     },
     "metadata": {
      "needs_background": "light"
     },
     "output_type": "display_data"
    }
   ],
   "source": [
    "#type your code here:\n"
   ]
  },
  {
   "cell_type": "markdown",
   "metadata": {},
   "source": [
    "# Problem 3: Independence\n",
    "\n",
    "Use NumPy to create simulations and compute **empirical  probability** for the following outcomes. Compare the results with the **theoretical probability**.\n",
    "\n",
    "1. Two fair coin flips produce exactly two heads"
   ]
  },
  {
   "cell_type": "code",
   "execution_count": 73,
   "metadata": {},
   "outputs": [
    {
     "name": "stdout",
     "output_type": "stream",
     "text": [
      "0.249837\n"
     ]
    }
   ],
   "source": [
    "n=1000000\n",
    "t1r=np.random.choice([0,1],size=n)\n",
    "t2r=np.random.choice([0,1],size=n)\n",
    "\n",
    "\n",
    "\n",
    "# sums of all tests\n",
    "totalsum=sum(t1r+t2r==2)\n",
    "\n",
    "# proportion of tests that produced exactly two heads\n",
    "trials=np.arange(1,n+1)\n",
    "\n",
    "p=totalsum/n\n",
    "print(p)"
   ]
  },
  {
   "cell_type": "code",
   "execution_count": 7,
   "metadata": {},
   "outputs": [
    {
     "data": {
      "text/plain": [
       "0.249809"
      ]
     },
     "execution_count": 7,
     "metadata": {},
     "output_type": "execute_result"
    }
   ],
   "source": [
    "#type your code here:\n",
    "\n",
    "# simulate 1 million tests of two fair coin flips\n",
    "\n",
    "\n",
    "# sums of all tests\n",
    "\n",
    "\n",
    "# proportion of tests that produced exactly two heads\n"
   ]
  },
  {
   "cell_type": "markdown",
   "metadata": {},
   "source": [
    "2. Three fair coin flips produce exactly one head"
   ]
  },
  {
   "cell_type": "code",
   "execution_count": 74,
   "metadata": {},
   "outputs": [
    {
     "name": "stdout",
     "output_type": "stream",
     "text": [
      "0.375334\n"
     ]
    }
   ],
   "source": [
    "n=1000000\n",
    "t1r=np.random.choice([0,1],size=n)\n",
    "t2r=np.random.choice([0,1],size=n)\n",
    "t3r=np.random.choice([0,1],size=n)\n",
    "\n",
    "\n",
    "\n",
    "# sums of all tests\n",
    "totalsum=sum(t1r+t2r+t3r==1)\n",
    "\n",
    "# proportion of tests that produced exactly two heads\n",
    "trials=np.arange(1,n+1)\n",
    "\n",
    "p=totalsum/n\n",
    "print(p)"
   ]
  },
  {
   "cell_type": "code",
   "execution_count": 8,
   "metadata": {},
   "outputs": [
    {
     "data": {
      "text/plain": [
       "0.374819"
      ]
     },
     "execution_count": 8,
     "metadata": {},
     "output_type": "execute_result"
    }
   ],
   "source": [
    "#type your code here:\n",
    "\n",
    "# simulate 1 million tests of three fair coin flips\n",
    "\n",
    "\n",
    "# sums of all tests\n",
    "\n",
    "\n",
    "# proportion of tests that produced exactly one head\n"
   ]
  },
  {
   "cell_type": "markdown",
   "metadata": {},
   "source": [
    "3. Three biased coin flips with P(H) = 0.6 produce exactly one head"
   ]
  },
  {
   "cell_type": "code",
   "execution_count": 75,
   "metadata": {},
   "outputs": [
    {
     "name": "stdout",
     "output_type": "stream",
     "text": [
      "0.287936\n"
     ]
    }
   ],
   "source": [
    "n=1000000\n",
    "t1r=np.random.choice([0,1],size=n,p=[0.4,0.6])\n",
    "t2r=np.random.choice([0,1],size=n,p=[0.4,0.6])\n",
    "t3r=np.random.choice([0,1],size=n,p=[0.4,0.6])\n",
    "\n",
    "\n",
    "\n",
    "# sums of all tests\n",
    "totalsum=sum(t1r+t2r+t3r==1)\n",
    "\n",
    "# proportion of tests that produced exactly two heads\n",
    "trials=np.arange(1,n+1)\n",
    "\n",
    "p=totalsum/n\n",
    "print(p)"
   ]
  },
  {
   "cell_type": "code",
   "execution_count": 9,
   "metadata": {},
   "outputs": [
    {
     "data": {
      "text/plain": [
       "0.288288"
      ]
     },
     "execution_count": 9,
     "metadata": {},
     "output_type": "execute_result"
    }
   ],
   "source": [
    "#type your code here:\n",
    "\n",
    "\n",
    "# simulate 1 million tests of three biased coin flips\n",
    "# hint: use np.random.choice()\n",
    "\n",
    "\n",
    "# sums of all tests\n",
    "\n",
    "\n",
    "# proportion of tests that produced exactly one head\n"
   ]
  },
  {
   "cell_type": "markdown",
   "metadata": {},
   "source": [
    "# Problem 4:Random Variables Statistical Tools\n",
    "Simulate Rolling a fair die $1000$ times. Then calculate the following:\n",
    "\n",
    "- Sample mean\n",
    "- Sample variance\n",
    "- Sample standard deviation\n",
    "\n",
    "Compare the results with the theoretical probability."
   ]
  },
  {
   "cell_type": "code",
   "execution_count": 76,
   "metadata": {},
   "outputs": [
    {
     "name": "stdout",
     "output_type": "stream",
     "text": [
      "Sample mean: 3.524\n",
      "Sample variance: 2.955424\n",
      "Sample standard deviation: 1.7191346660456823\n"
     ]
    }
   ],
   "source": [
    "n=1000\n",
    "test=np.random.choice([1,2,3,4,5,6],size=n)\n",
    "\n",
    "mean=np.sum(test)/n\n",
    "st=np.std(test)\n",
    "v=np.var(test)\n",
    "\n",
    "print(f\"Sample mean: {mean}\")\n",
    "print(f\"Sample variance: {v}\")\n",
    "print(f\"Sample standard deviation: {st}\")"
   ]
  },
  {
   "cell_type": "code",
   "execution_count": 10,
   "metadata": {},
   "outputs": [
    {
     "name": "stdout",
     "output_type": "stream",
     "text": [
      "Sample mean: 3.463\n",
      "Sample variance: 3.005636636636637\n",
      "Sample standard deviation: 1.7336772008181445\n",
      "3.463\n",
      "3.005636636636637\n",
      "1.7336772008181445\n"
     ]
    }
   ],
   "source": [
    "#type your code here:\n"
   ]
  },
  {
   "cell_type": "markdown",
   "metadata": {},
   "source": [
    "# Problem 5: Correlation and Covariance\n",
    "\n",
    "The CSV file includes a hourly/daily summary for Szeged, Hungary area, between 2006 and 2016. After inspecting the data:\n",
    "\n",
    "- Calculate the covariance and correlation coeffecient between temperature and apparent temperature\n",
    "- Calculate the covariance and correlation coeffecient between temperature and humidity"
   ]
  },
  {
   "cell_type": "code",
   "execution_count": 77,
   "metadata": {},
   "outputs": [],
   "source": [
    "df = pd.read_csv('weatherHistory.csv')\n",
    "temperature = df['Temperature (C)'].to_numpy().reshape(-1, 1)\n",
    "apparant_temp = df['Apparent Temperature (C)'].to_numpy().reshape(-1, 1)\n",
    "humidity = df['Humidity'].to_numpy().reshape(-1, 1)"
   ]
  },
  {
   "cell_type": "code",
   "execution_count": 78,
   "metadata": {},
   "outputs": [
    {
     "data": {
      "text/plain": [
       "Text(0, 0.5, 'Apparent Temperature (C)')"
      ]
     },
     "execution_count": 78,
     "metadata": {},
     "output_type": "execute_result"
    },
    {
     "data": {
      "image/png": "[encoded data removed]",
      "text/plain": [
       "<Figure size 640x480 with 1 Axes>"
      ]
     },
     "metadata": {},
     "output_type": "display_data"
    }
   ],
   "source": [
    "plt.scatter(temperature, apparant_temp)\n",
    "plt.grid()\n",
    "plt.xlabel('Temperature (C)')\n",
    "plt.ylabel('Apparent Temperature (C)')"
   ]
  },
  {
   "cell_type": "code",
   "execution_count": 79,
   "metadata": {},
   "outputs": [
    {
     "data": {
      "text/plain": [
       "Text(0, 0.5, 'Temperature (C)')"
      ]
     },
     "execution_count": 79,
     "metadata": {},
     "output_type": "execute_result"
    },
    {
     "data": {
      "image/png": "[encoded data removed]",
      "text/plain": [
       "<Figure size 640x480 with 1 Axes>"
      ]
     },
     "metadata": {},
     "output_type": "display_data"
    }
   ],
   "source": [
    "plt.scatter(humidity, temperature)\n",
    "plt.grid()\n",
    "plt.xlabel('Humidity')\n",
    "plt.ylabel('Temperature (C)')"
   ]
  },
  {
   "cell_type": "markdown",
   "metadata": {},
   "source": [
    "## Temperature and Apparent Temperature"
   ]
  },
  {
   "cell_type": "code",
   "execution_count": 86,
   "metadata": {},
   "outputs": [
    {
     "data": {
      "text/html": [
       "<div>\n",
       "<style scoped>\n",
       "    .dataframe tbody tr th:only-of-type {\n",
       "        vertical-align: middle;\n",
       "    }\n",
       "\n",
       "    .dataframe tbody tr th {\n",
       "        vertical-align: top;\n",
       "    }\n",
       "\n",
       "    .dataframe thead th {\n",
       "        text-align: right;\n",
       "    }\n",
       "</style>\n",
       "<table border=\"1\" class=\"dataframe\">\n",
       "  <thead>\n",
       "    <tr style=\"text-align: right;\">\n",
       "      <th></th>\n",
       "      <th>Temperature (C)</th>\n",
       "      <th>Apparent Temperature (C)</th>\n",
       "      <th>Humidity</th>\n",
       "    </tr>\n",
       "  </thead>\n",
       "  <tbody>\n",
       "    <tr>\n",
       "      <th>0</th>\n",
       "      <td>9.472222</td>\n",
       "      <td>7.388889</td>\n",
       "      <td>0.89</td>\n",
       "    </tr>\n",
       "    <tr>\n",
       "      <th>1</th>\n",
       "      <td>9.355556</td>\n",
       "      <td>7.227778</td>\n",
       "      <td>0.86</td>\n",
       "    </tr>\n",
       "    <tr>\n",
       "      <th>2</th>\n",
       "      <td>9.377778</td>\n",
       "      <td>9.377778</td>\n",
       "      <td>0.89</td>\n",
       "    </tr>\n",
       "    <tr>\n",
       "      <th>3</th>\n",
       "      <td>8.288889</td>\n",
       "      <td>5.944444</td>\n",
       "      <td>0.83</td>\n",
       "    </tr>\n",
       "    <tr>\n",
       "      <th>4</th>\n",
       "      <td>8.755556</td>\n",
       "      <td>6.977778</td>\n",
       "      <td>0.83</td>\n",
       "    </tr>\n",
       "    <tr>\n",
       "      <th>...</th>\n",
       "      <td>...</td>\n",
       "      <td>...</td>\n",
       "      <td>...</td>\n",
       "    </tr>\n",
       "    <tr>\n",
       "      <th>96448</th>\n",
       "      <td>26.016667</td>\n",
       "      <td>26.016667</td>\n",
       "      <td>0.43</td>\n",
       "    </tr>\n",
       "    <tr>\n",
       "      <th>96449</th>\n",
       "      <td>24.583333</td>\n",
       "      <td>24.583333</td>\n",
       "      <td>0.48</td>\n",
       "    </tr>\n",
       "    <tr>\n",
       "      <th>96450</th>\n",
       "      <td>22.038889</td>\n",
       "      <td>22.038889</td>\n",
       "      <td>0.56</td>\n",
       "    </tr>\n",
       "    <tr>\n",
       "      <th>96451</th>\n",
       "      <td>21.522222</td>\n",
       "      <td>21.522222</td>\n",
       "      <td>0.60</td>\n",
       "    </tr>\n",
       "    <tr>\n",
       "      <th>96452</th>\n",
       "      <td>20.438889</td>\n",
       "      <td>20.438889</td>\n",
       "      <td>0.61</td>\n",
       "    </tr>\n",
       "  </tbody>\n",
       "</table>\n",
       "<p>96453 rows × 3 columns</p>\n",
       "</div>"
      ],
      "text/plain": [
       "       Temperature (C)  Apparent Temperature (C)  Humidity\n",
       "0             9.472222                  7.388889      0.89\n",
       "1             9.355556                  7.227778      0.86\n",
       "2             9.377778                  9.377778      0.89\n",
       "3             8.288889                  5.944444      0.83\n",
       "4             8.755556                  6.977778      0.83\n",
       "...                ...                       ...       ...\n",
       "96448        26.016667                 26.016667      0.43\n",
       "96449        24.583333                 24.583333      0.48\n",
       "96450        22.038889                 22.038889      0.56\n",
       "96451        21.522222                 21.522222      0.60\n",
       "96452        20.438889                 20.438889      0.61\n",
       "\n",
       "[96453 rows x 3 columns]"
      ]
     },
     "execution_count": 86,
     "metadata": {},
     "output_type": "execute_result"
    }
   ],
   "source": [
    "df = pd.read_csv('weatherHistory.csv')\n",
    "df"
   ]
  },
  {
   "cell_type": "code",
   "execution_count": 95,
   "metadata": {},
   "outputs": [
    {
     "name": "stdout",
     "output_type": "stream",
     "text": [
      "Covariance:   91.23203711561882\n",
      "---------------------------------------------------\n",
      "np.cov():\n",
      "   [[ 91.23203712 101.41828319]\n",
      " [101.41828319 114.42254413]]\n",
      "---------------------------------------------------\n",
      "np.cov():\n",
      "   [[1.         0.99262856]\n",
      " [0.99262856 1.        ]]\n",
      "---------------------------------------------------\n"
     ]
    }
   ],
   "source": [
    "print(\"Covariance:  \",np.cov(df['Temperature (C)']))\n",
    "print(\"---------------------------------------------------\")\n",
    "\n",
    "print(\"np.cov():\\n  \",np.cov(df['Temperature (C)'],df['Apparent Temperature (C)']))\n",
    "print(\"---------------------------------------------------\")\n",
    "\n",
    "\n",
    "print(\"np.cov():\\n  \",np.corrcoef(df['Temperature (C)'],df['Apparent Temperature (C)']))\n",
    "print(\"---------------------------------------------------\")"
   ]
  },
  {
   "cell_type": "code",
   "execution_count": 96,
   "metadata": {},
   "outputs": [],
   "source": [
    "#type your code here:\n",
    "\n"
   ]
  },
  {
   "cell_type": "markdown",
   "metadata": {},
   "source": [
    "## Temperature and Humidity"
   ]
  },
  {
   "cell_type": "code",
   "execution_count": 97,
   "metadata": {},
   "outputs": [
    {
     "name": "stdout",
     "output_type": "stream",
     "text": [
      "Covariance:   0.038209591718439684\n",
      "---------------------------------------------------\n",
      "np.cov():\n",
      "   [[ 9.12320371e+01 -1.18046179e+00]\n",
      " [-1.18046179e+00  3.82095917e-02]]\n",
      "---------------------------------------------------\n",
      "np.cov():\n",
      "   [[ 1.         -0.63225468]\n",
      " [-0.63225468  1.        ]]\n",
      "---------------------------------------------------\n"
     ]
    }
   ],
   "source": [
    "print(\"Covariance:  \",np.cov(df['Humidity']))\n",
    "print(\"---------------------------------------------------\")\n",
    "\n",
    "print(\"np.cov():\\n  \",np.cov(df['Temperature (C)'],df['Humidity']))\n",
    "print(\"---------------------------------------------------\")\n",
    "\n",
    "\n",
    "print(\"np.cov():\\n  \",np.corrcoef(df['Temperature (C)'],df['Humidity']))\n",
    "print(\"---------------------------------------------------\")"
   ]
  },
  {
   "cell_type": "code",
   "execution_count": 15,
   "metadata": {},
   "outputs": [
    {
     "name": "stdout",
     "output_type": "stream",
     "text": [
      "Covariance:  [[-1.18046179]]\n",
      "---------------------------------------------------\n",
      "np.cov(): \n",
      " [[ 9.12320371e+01 -1.18046179e+00]\n",
      " [-1.18046179e+00  3.82095917e-02]]\n",
      "---------------------------------------------------\n",
      "Correlation Cof:  [[-0.63225468]]\n",
      "---------------------------------------------------\n",
      "np.corrcoef(): \n",
      " [[ 1.         -0.63225468]\n",
      " [-0.63225468  1.        ]]\n"
     ]
    }
   ],
   "source": [
    "#type your code here:\n"
   ]
  }
 ],
 "metadata": {
  "kernelspec": {
   "display_name": "Python 3 (ipykernel)",
   "language": "python",
   "name": "python3"
  },
  "language_info": {
   "codemirror_mode": {
    "name": "ipython",
    "version": 3
   },
   "file_extension": ".py",
   "mimetype": "text/x-python",
   "name": "python",
   "nbconvert_exporter": "python",
   "pygments_lexer": "ipython3",
   "version": "3.11.5"
  }
 },
 "nbformat": 4,
 "nbformat_minor": 4
}
