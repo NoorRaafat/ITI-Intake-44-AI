{
 "cells": [
  {
   "cell_type": "markdown",
   "metadata": {},
   "source": [
    "# LAB 1: Matrix and Vector Computations in python\n",
    "In this lab you will use python to study the following topics:\n",
    "\n",
    "- How to create matrices and vectors in python.\n",
    "\n",
    "- How to manipulate matrices in python and create matrices of special types.\n",
    "\n",
    "- How to add matrices and multiply a vector by a matrix by python.\n",
    "\n",
    "- Solving System of Linear Equations Using Gaussian Elimination.\n",
    "\n",
    "- Matrix Multiplication using Different views."
   ]
  },
  {
   "cell_type": "markdown",
   "metadata": {},
   "source": [
    "# First: you should run this cell"
   ]
  },
  {
   "cell_type": "code",
   "execution_count": 1,
   "metadata": {},
   "outputs": [],
   "source": [
    "# Make all numpy available via shorter 'np' prefix\n",
    "import numpy as np\n",
    "\n",
    "import sympy as sym"
   ]
  },
  {
   "cell_type": "markdown",
   "metadata": {},
   "source": [
    "# Question 1 :Declaring scalars, vectors, and matrices\n",
    "\n",
    "a) Use [numpy.array](https://numpy.org/doc/stable/reference/generated/numpy.array.html) to declare the following:\n",
    "\n",
    "1. A scalar $s = 5$\n",
    "2. A vector $v = \\begin{bmatrix} 5  \\\\ -2 \\\\ 4  \\\\ \\end{bmatrix}$\n",
    "3. A matrix $A = \\begin{bmatrix} 1 & 2 & 3  \\\\ 4 & 5 & 6 \\\\ 7 & 8 & 9  \\\\ \\end{bmatrix}$\n",
    "4. A matrix $B = \\begin{bmatrix} 1 & 2 & 3  \\\\ 4 & 5 & 6 \\\\ \\end{bmatrix}$\n",
    "5. A matrix $C = \\begin{bmatrix} 1 & 2   \\\\ 3 & 4  \\\\ 5 & 6   \\\\ \\end{bmatrix}$"
   ]
  },
  {
   "cell_type": "code",
   "execution_count": 276,
   "metadata": {},
   "outputs": [
    {
     "name": "stdout",
     "output_type": "stream",
     "text": [
      "s =  5 \n",
      "\n",
      "v =  \n",
      " [[ 5]\n",
      " [-2]\n",
      " [ 4]] \n",
      "\n",
      "A = \n",
      " [[1 2 3]\n",
      " [4 5 6]\n",
      " [7 8 9]] \n",
      "\n",
      "B  = \n",
      "  [[1 2 3]\n",
      " [4 5 6]] \n",
      "\n",
      "C  = \n",
      " [[1 2]\n",
      " [3 4]\n",
      " [5 6]] \n",
      "\n"
     ]
    }
   ],
   "source": [
    "#scalar using numpy \n",
    "s = np.array(5)\n",
    "print(\"s = \",s,\"\\n\")\n",
    "# vector using numpy \n",
    "\n",
    "V=np.array([[5],[-2],[4]])\n",
    "print(\"v =  \\n\", V,\"\\n\")\n",
    "\n",
    "#matrix using numpy \n",
    "A=np.array([[1,2,3,],[4,5,6],[7,8,9]])\n",
    "print(\"A = \\n\",A ,\"\\n\")\n",
    "\n",
    "\n",
    "B=np.array([[1,2,3],[4,5,6]])\n",
    "\n",
    "print(\"B  = \\n \",B,\"\\n\")\n",
    "\n",
    "\n",
    "C=np.array([[1,2],[3,4],[5,6]])\n",
    "\n",
    "print(\"C  = \\n\",C,\"\\n\")         "
   ]
  },
  {
   "cell_type": "code",
   "execution_count": 2,
   "metadata": {},
   "outputs": [
    {
     "name": "stdout",
     "output_type": "stream",
     "text": [
      "s = 5\n",
      "\n",
      "v =\n",
      " [[ 5]\n",
      " [-2]\n",
      " [ 4]]\n",
      "\n",
      "A =\n",
      " [[1 2 3]\n",
      " [4 5 6]\n",
      " [7 8 9]]\n",
      "\n",
      "B =\n",
      " [[1 2 3]\n",
      " [4 5 6]]\n",
      "\n",
      "C =\n",
      " [[1 2]\n",
      " [3 4]\n",
      " [5 6]]\n",
      "\n"
     ]
    }
   ],
   "source": [
    "#type your code here:\n"
   ]
  },
  {
   "cell_type": "code",
   "execution_count": 277,
   "metadata": {},
   "outputs": [
    {
     "name": "stdout",
     "output_type": "stream",
     "text": [
      "type(s) =  <class 'numpy.ndarray'> \n",
      "\n",
      "type(V) =   <class 'numpy.ndarray'> \n",
      "\n",
      "type(A) =   <class 'numpy.ndarray'> \n",
      "\n"
     ]
    }
   ],
   "source": [
    "print(\"type(s) = \", type(s),\"\\n\")\n",
    "print(\"type(V) =  \", type(V),\"\\n\")\n",
    "print(\"type(A) =  \", type(s),\"\\n\")"
   ]
  },
  {
   "cell_type": "markdown",
   "metadata": {},
   "source": [
    "b) Print the data type of $s, v,$ and $A$ using `type` command in python."
   ]
  },
  {
   "cell_type": "code",
   "execution_count": 3,
   "metadata": {},
   "outputs": [
    {
     "name": "stdout",
     "output_type": "stream",
     "text": [
      "type(s) = <class 'numpy.ndarray'>\n",
      "\n",
      "type(v) = <class 'numpy.ndarray'>\n",
      "\n",
      "type(A) = <class 'numpy.ndarray'>\n",
      "\n"
     ]
    }
   ],
   "source": [
    "#type your code here:\n"
   ]
  },
  {
   "cell_type": "markdown",
   "metadata": {},
   "source": [
    "c) Using [numpy.shape](https://numpy.org/devdocs/reference/generated/numpy.shape.html) or `A.shape` print the shape of $s, v, A, B,$ and $C$."
   ]
  },
  {
   "cell_type": "code",
   "execution_count": 278,
   "metadata": {},
   "outputs": [
    {
     "name": "stdout",
     "output_type": "stream",
     "text": [
      "S.shape= () \n",
      "\n",
      "v.shape= (3, 1) \n",
      "\n",
      "A.shape= (3, 3) \n",
      "\n",
      "B.shape= (2, 3) \n",
      "\n",
      "C.shape= (3, 2) \n",
      "\n"
     ]
    }
   ],
   "source": [
    "print(\"S.shape=\", s.shape,\"\\n\")\n",
    "print(\"v.shape=\",V.shape,\"\\n\")\n",
    "print(\"A.shape=\",A.shape,\"\\n\")\n",
    "print(\"B.shape=\",B.shape,\"\\n\")\n",
    "print(\"C.shape=\",C.shape,\"\\n\")"
   ]
  },
  {
   "cell_type": "code",
   "execution_count": 4,
   "metadata": {},
   "outputs": [
    {
     "name": "stdout",
     "output_type": "stream",
     "text": [
      "s.shape = ()\n",
      "\n",
      "v.shape = (3, 1)\n",
      "\n",
      "A.shape = (3, 3)\n",
      "\n",
      "B.shape = (2, 3)\n",
      "\n",
      "C.shape = (3, 2)\n",
      "\n"
     ]
    }
   ],
   "source": [
    "#type your code here:\n"
   ]
  },
  {
   "cell_type": "markdown",
   "metadata": {},
   "source": [
    "d) To access a given entry in the `numpy array` put the `row number - 1` and `column number - 1` in square brackets following the array name. Ex `a32 = A[2, 1]`.\n",
    "- Print the value of the third row and the second column of the matrix $A$.\n",
    "- Change it to $10$.\n",
    "- Print the matrix A to check the entry is changed."
   ]
  },
  {
   "cell_type": "code",
   "execution_count": 279,
   "metadata": {},
   "outputs": [
    {
     "name": "stdout",
     "output_type": "stream",
     "text": [
      " A[2 ,1] = 8 \n",
      "\n",
      "A= \n",
      " [[ 1  2  3]\n",
      " [ 4  5  6]\n",
      " [ 7 10  9]] \n",
      "\n"
     ]
    }
   ],
   "source": [
    "value=A[2 , 1]\n",
    "print(f\" A[2 ,1] = {value}\",\"\\n\")\n",
    "A[2,1]=10\n",
    "print(\"A= \\n\",A,\"\\n\")"
   ]
  },
  {
   "cell_type": "code",
   "execution_count": 5,
   "metadata": {},
   "outputs": [
    {
     "name": "stdout",
     "output_type": "stream",
     "text": [
      "A[2, 1] =  8\n",
      "\n",
      "A =\n",
      " [[ 1  2  3]\n",
      " [ 4  5  6]\n",
      " [ 7 10  9]]\n",
      "\n"
     ]
    }
   ],
   "source": [
    "#type your code here:\n"
   ]
  },
  {
   "cell_type": "markdown",
   "metadata": {},
   "source": [
    "e)To access a whole row or column of a matrix, use the colon operator. For example, `A[:, [1]]` is the second column of A, while `B[[1], :]` is the second row of B."
   ]
  },
  {
   "cell_type": "code",
   "execution_count": 34,
   "metadata": {},
   "outputs": [
    {
     "name": "stdout",
     "output_type": "stream",
     "text": [
      "A[:,[1]]  = \n",
      " [[ 2]\n",
      " [ 5]\n",
      " [10]] \n",
      "\n",
      "B[[1],:] = \n",
      "  [[4 5 6]] \n",
      "\n"
     ]
    }
   ],
   "source": [
    "second_column=A[: , [1]]\n",
    "print(\"A[:,[1]]  = \\n\",second_column,\"\\n\")\n",
    "second_row=B[[1], :]\n",
    "print(\"B[[1],:] = \\n \",second_row,\"\\n\")"
   ]
  },
  {
   "cell_type": "code",
   "execution_count": 6,
   "metadata": {},
   "outputs": [
    {
     "name": "stdout",
     "output_type": "stream",
     "text": [
      "A[:, [1]] =\n",
      " [[ 2]\n",
      " [ 5]\n",
      " [10]]\n",
      "\n",
      "B[[1], :] =\n",
      " [[4 5 6]]\n",
      "\n"
     ]
    }
   ],
   "source": [
    "#type your code here:\n"
   ]
  },
  {
   "cell_type": "markdown",
   "metadata": {},
   "source": [
    "f) Type each of the following commands that generate special matrices:\n",
    "- `np.eye(4), np.zeros(3), np.zeros((3, 1)), np.zeros((3, 5)), np.ones((2, 3)), and np.diag([4, 5, 6, 7])`"
   ]
  },
  {
   "cell_type": "code",
   "execution_count": 36,
   "metadata": {},
   "outputs": [
    {
     "name": "stdout",
     "output_type": "stream",
     "text": [
      "np.eye(4)  = \n",
      " [[1. 0. 0. 0.]\n",
      " [0. 1. 0. 0.]\n",
      " [0. 0. 1. 0.]\n",
      " [0. 0. 0. 1.]] \n",
      "\n",
      "np.zeros(3) = \n",
      " [0. 0. 0.] \n",
      "\n",
      "np.zeros(3,1)  = \n",
      " [[0.]\n",
      " [0.]\n",
      " [0.]] \n",
      "\n",
      "np.zeros(3,5)  =  \n",
      " [[0. 0. 0. 0. 0.]\n",
      " [0. 0. 0. 0. 0.]\n",
      " [0. 0. 0. 0. 0.]]\n",
      "np.ones(2,3)  = \n",
      " [[1. 1. 1.]\n",
      " [1. 1. 1.]] \n",
      "\n",
      "np.diag([4 5 6 7 ]) = \n",
      " [[4 0 0 0]\n",
      " [0 5 0 0]\n",
      " [0 0 6 0]\n",
      " [0 0 0 7]] \n",
      "\n"
     ]
    }
   ],
   "source": [
    "# Identity matrix of size 4x4\n",
    "array1 = np.eye(4)\n",
    "\n",
    "# Array of zeros with 3 elements\n",
    "array2 = np.zeros(3)\n",
    "\n",
    "# Array of zeros with shape (3, 1)\n",
    "array3 = np.zeros((3, 1))\n",
    "\n",
    "# Array of zeros with shape (3, 5)\n",
    "array4 = np.zeros((3, 5))\n",
    "\n",
    "# Array of ones with shape (2, 3)\n",
    "array5 = np.ones((2, 3))\n",
    "\n",
    "# Diagonal matrix with diagonal elements [4, 5, 6, 7]\n",
    "array6 = np.diag([4, 5, 6, 7])\n",
    "\n",
    "# Print the arrays\n",
    "print(\"np.eye(4)  = \\n\",array1,\"\\n\")\n",
    "\n",
    "\n",
    "print(\"np.zeros(3) = \\n\",array2,\"\\n\")\n",
    "\n",
    "\n",
    "print(\"np.zeros(3,1)  = \\n\",array3,\"\\n\")\n",
    "\n",
    "\n",
    "print(\"np.zeros(3,5)  =  \\n\",array4)\n",
    "\n",
    "\n",
    "print(\"np.ones(2,3)  = \\n\",array5,\"\\n\")\n",
    "\n",
    "\n",
    "print(\"np.diag([4 5 6 7 ]) = \\n\",array6,\"\\n\")\n"
   ]
  },
  {
   "cell_type": "code",
   "execution_count": 7,
   "metadata": {},
   "outputs": [
    {
     "name": "stdout",
     "output_type": "stream",
     "text": [
      "np.eye(4) =\n",
      " [[1. 0. 0. 0.]\n",
      " [0. 1. 0. 0.]\n",
      " [0. 0. 1. 0.]\n",
      " [0. 0. 0. 1.]]\n",
      "\n",
      "np.zeros(3) =\n",
      " [0. 0. 0.]\n",
      "\n",
      "np.zeros(3, 1) =\n",
      " [[0.]\n",
      " [0.]\n",
      " [0.]]\n",
      "\n",
      "np.zeros(3, 5) =\n",
      " [[0. 0. 0. 0. 0.]\n",
      " [0. 0. 0. 0. 0.]\n",
      " [0. 0. 0. 0. 0.]]\n",
      "\n",
      "np.ones(2, 3) =\n",
      " [[1. 1. 1.]\n",
      " [1. 1. 1.]]\n",
      "\n",
      "np.diag([4 5 6 7]) =\n",
      " [[4 0 0 0]\n",
      " [0 5 0 0]\n",
      " [0 0 6 0]\n",
      " [0 0 0 7]]\n"
     ]
    }
   ],
   "source": [
    "#type your code here:\n"
   ]
  },
  {
   "cell_type": "markdown",
   "metadata": {},
   "source": [
    "# Question 2. Vectors Addition, Scaling, and dot product"
   ]
  },
  {
   "cell_type": "markdown",
   "metadata": {},
   "source": [
    "a) Declare vectors $v1 = \\begin{bmatrix} 1  \\\\ 2 \\\\ 7  \\\\ 4 \\\\ \\end{bmatrix}$ and $v2 = \\begin{bmatrix} 4  \\\\ 3 \\\\ 6  \\\\ 8 \\\\ \\end{bmatrix}$\n",
    "\n",
    "- Addition: $v1 + v2$\n",
    "- Subtraction: $v1 - v2$\n",
    "- Scaling by a number: $3 * v1$\n",
    "- Scaling by a number: $v1 / 2$"
   ]
  },
  {
   "cell_type": "code",
   "execution_count": 280,
   "metadata": {},
   "outputs": [
    {
     "name": "stdout",
     "output_type": "stream",
     "text": [
      "v1 = \n",
      " [[1]\n",
      " [2]\n",
      " [7]\n",
      " [4]] \n",
      "\n",
      "v2 = \n",
      " [[4]\n",
      " [3]\n",
      " [6]\n",
      " [8]] \n",
      "\n",
      "v1 + v2  = \n",
      " [[ 5]\n",
      " [ 5]\n",
      " [13]\n",
      " [12]] \n",
      "\n",
      "v1 - v2  = \n",
      " [[-3]\n",
      " [-1]\n",
      " [ 1]\n",
      " [-4]] \n",
      "\n",
      "3 * v1  = \n",
      " [[ 3]\n",
      " [ 6]\n",
      " [21]\n",
      " [12]] \n",
      "\n",
      "v1 / 2  = \n",
      " [[0.5]\n",
      " [1. ]\n",
      " [3.5]\n",
      " [2. ]] \n",
      "\n"
     ]
    }
   ],
   "source": [
    "v1=np.array([[1],[2],[7],[4]])\n",
    "v2=np.array([[4],[3],[6],[8]])\n",
    "#vector addition\n",
    "vector_add=v1 + v2\n",
    "#vector subtraction\n",
    "vector_sub=v1 - v2\n",
    "# scaling\n",
    "scalar= 3\n",
    "scaled_result=scalar* v1\n",
    "scalar2=2\n",
    "scaled2_result= v1/scalar2\n",
    "\n",
    "print(\"v1 = \\n\",v1,\"\\n\")\n",
    "print(\"v2 = \\n\",v2,\"\\n\")\n",
    "print(\"v1 + v2  = \\n\",vector_add,\"\\n\")\n",
    "print(\"v1 - v2  = \\n\",vector_sub,\"\\n\")\n",
    "print(\"3 * v1  = \\n\",scaled_result,\"\\n\")\n",
    "print(\"v1 / 2  = \\n\",scaled2_result,\"\\n\")\n",
    "\n",
    "\n",
    "\n",
    "\n"
   ]
  },
  {
   "cell_type": "code",
   "execution_count": 8,
   "metadata": {},
   "outputs": [
    {
     "name": "stdout",
     "output_type": "stream",
     "text": [
      "v1 =\n",
      " [[1]\n",
      " [2]\n",
      " [7]\n",
      " [4]]\n",
      "\n",
      "v2 =\n",
      " [[4]\n",
      " [3]\n",
      " [6]\n",
      " [8]]\n",
      "\n",
      "v1 + v2 =\n",
      " [[ 5]\n",
      " [ 5]\n",
      " [13]\n",
      " [12]]\n",
      "\n",
      "v1 - v2 =\n",
      " [[-3]\n",
      " [-1]\n",
      " [ 1]\n",
      " [-4]]\n",
      "\n",
      "3*v1 =\n",
      " [[ 3]\n",
      " [ 6]\n",
      " [21]\n",
      " [12]]\n",
      "\n",
      "v1/2 =\n",
      " [[0.5]\n",
      " [1. ]\n",
      " [3.5]\n",
      " [2. ]]\n",
      "\n"
     ]
    }
   ],
   "source": [
    "#type your code here:\n"
   ]
  },
  {
   "cell_type": "markdown",
   "metadata": {},
   "source": [
    "b) Find the dot product between the two vectors $v1$ and $v2$ using the following:\n",
    "\n",
    "- [numpy.dot](https://numpy.org/doc/stable/reference/generated/numpy.dot.html)\n",
    "- [numpy.matmul](https://numpy.org/doc/stable/reference/generated/numpy.matmul.html#numpy.matmul)\n",
    "- `v1.T @ v2`"
   ]
  },
  {
   "cell_type": "code",
   "execution_count": 52,
   "metadata": {},
   "outputs": [
    {
     "name": "stdout",
     "output_type": "stream",
     "text": [
      "using numpy.dot = \n",
      " [[84]] \n",
      "\n",
      "using numpy.matmaul = \n",
      " [[84]] \n",
      "\n",
      "using @ = \n",
      " [[84]] \n",
      "\n"
     ]
    }
   ],
   "source": [
    "#v1_transpose=np.transpose(v1)\n",
    "\n",
    "\n",
    "# calculate dot product using numpy.dot\n",
    "dot_product_dot=np.dot(v1.T,v2)\n",
    "print(\"using numpy.dot = \\n\",dot_product_dot,\"\\n\")\n",
    "\n",
    "#calculte dot product using numpy .matmul\n",
    "dot_product_matmul=np.matmul(v1.T,v2)\n",
    "\n",
    "print(\"using numpy.matmaul = \\n\",dot_product_matmul,\"\\n\")\n",
    " #calculte dot product using @\n",
    "dot_product_at= v1.T @v2\n",
    "print (\"using @ = \\n\",dot_product_at,\"\\n\" )"
   ]
  },
  {
   "cell_type": "code",
   "execution_count": 9,
   "metadata": {},
   "outputs": [
    {
     "name": "stdout",
     "output_type": "stream",
     "text": [
      "Using numpy.dot =\n",
      " [[84]]\n",
      "\n",
      "Using numpy.matmul =\n",
      " [[84]]\n",
      "\n",
      "Using @ =\n",
      " [[84]]\n",
      "\n"
     ]
    }
   ],
   "source": [
    "#type your code here:\n"
   ]
  },
  {
   "cell_type": "markdown",
   "metadata": {},
   "source": [
    "c) Find the length of the vectors $v1$ and $v2$.\n",
    "- Using [numpy.linalg.norm](https://numpy.org/doc/stable/reference/generated/numpy.linalg.norm.html)\n",
    "- Using the dot product and [numpy.sqrt](https://numpy.org/doc/stable/reference/generated/numpy.sqrt.html)\n"
   ]
  },
  {
   "cell_type": "code",
   "execution_count": 57,
   "metadata": {},
   "outputs": [
    {
     "name": "stdout",
     "output_type": "stream",
     "text": [
      "length of v1 using  numpy.linalg.norm = \n",
      " 8.366600265340756 \n",
      "\n",
      "length of v2 using  numpy.linalg.norm = \n",
      " 11.180339887498949 \n",
      "\n",
      "Length of v1 using dot product and numpy.sqrt = \n",
      "  [[8.36660027]] \n",
      "\n",
      "Length of v2 using dot product and numpy.sqrt = \n",
      "  [[11.18033989]] \n",
      "\n"
     ]
    }
   ],
   "source": [
    "# calculte the length using numpy.linalg.norm\n",
    "length_v1_norm=np.linalg.norm(v1)\n",
    "length_v2_norm=np.linalg.norm(v2)\n",
    "print(\"length of v1 using  numpy.linalg.norm = \\n\",length_v1_norm,\"\\n\")\n",
    "print(\"length of v2 using  numpy.linalg.norm = \\n\",length_v2_norm,\"\\n\")\n",
    "\n",
    "# Calculate the length using dot product and numpy.sqrt\n",
    "length_v1_dot_sqrt = np.sqrt(np.dot(v1.T, v1))\n",
    "length_v2_dot_sqrt = np.sqrt(np.dot(v2.T, v2))\n",
    "\n",
    "print(\"Length of v1 using dot product and numpy.sqrt = \\n \", length_v1_dot_sqrt,\"\\n\")\n",
    "print(\"Length of v2 using dot product and numpy.sqrt = \\n \", length_v2_dot_sqrt,\"\\n\")"
   ]
  },
  {
   "cell_type": "code",
   "execution_count": 10,
   "metadata": {},
   "outputs": [
    {
     "name": "stdout",
     "output_type": "stream",
     "text": [
      "length of v1 Using numpy.linalg.norm =\n",
      " 8.366600265340756\n",
      "\n",
      "length of v2 Using numpy.linalg.norm =\n",
      " 11.180339887498949\n",
      "\n",
      "length of v1 Using the dot product and numpy.sqrt =\n",
      " [[8.36660027]]\n",
      "\n",
      "length of v2 Using the dot product and numpy.sqrt =\n",
      " [[11.18033989]]\n",
      "\n"
     ]
    }
   ],
   "source": [
    "#type your code here:\n"
   ]
  },
  {
   "cell_type": "markdown",
   "metadata": {},
   "source": [
    "d) Show that the vectors $u = \\begin{bmatrix} 3  \\\\ 2 \\\\ -1  \\\\ 4 \\\\ \\end{bmatrix}$ and $v = \\begin{bmatrix} 1  \\\\ -1 \\\\ 1  \\\\ 0 \\\\ \\end{bmatrix}$ are orthogonal.\n"
   ]
  },
  {
   "cell_type": "code",
   "execution_count": 60,
   "metadata": {},
   "outputs": [
    {
     "name": "stdout",
     "output_type": "stream",
     "text": [
      "u.T @ v = \n",
      "  [[0]] \n",
      "\n"
     ]
    }
   ],
   "source": [
    "u=np.array([[3],[2],[-1],[4]])\n",
    "v=np.array([[1],[-1],[1],[0]])\n",
    "v_orthogonal= np.dot(u.T,v)\n",
    "print(\"u.T @ v = \\n \",v_orthogonal,\"\\n\")"
   ]
  },
  {
   "cell_type": "code",
   "execution_count": 11,
   "metadata": {},
   "outputs": [
    {
     "name": "stdout",
     "output_type": "stream",
     "text": [
      "u.T @ v =\n",
      " [[0]]\n",
      "\n"
     ]
    }
   ],
   "source": [
    "#type your code here:\n"
   ]
  },
  {
   "cell_type": "markdown",
   "metadata": {},
   "source": [
    "# Question 3. Matrix Addition and Matrix-Vector Multiplication\n",
    "\n",
    "Declare vectors $u$ and $v$ and matrices $A$ and $B$ as following:\n",
    "- $u = \\begin{bmatrix} 2  \\\\ 7 \\\\ 2 \\\\ \\end{bmatrix}$, $v = \\begin{bmatrix} 8  \\\\ 2 \\\\ 4 \\\\ \\end{bmatrix}$\n",
    "- $A = \\begin{bmatrix} 7 & 3 & 5  \\\\ 4 & 6 & 2 \\\\ \\end{bmatrix}$, $B = \\begin{bmatrix} 0 & 6 & 4  \\\\ 2 & 3 & 0 \\\\ \\end{bmatrix}$\n",
    "\n",
    "a) Calculate the following using python.\n",
    "\n",
    "- $A+B$\n",
    "- $B+A$\n",
    "- $3A$\n",
    "- $6B$\n",
    "- $2(3B)$\n",
    "- $6A+15B$\n",
    "- $3(2A+5B)$\n",
    "- $(3A^T)^T$"
   ]
  },
  {
   "cell_type": "code",
   "execution_count": 74,
   "metadata": {},
   "outputs": [
    {
     "name": "stdout",
     "output_type": "stream",
     "text": [
      "u =\n",
      " [[2]\n",
      " [7]\n",
      " [2]] \n",
      "\n",
      "v =\n",
      " [[8]\n",
      " [2]\n",
      " [4]] \n",
      "\n",
      "A =\n",
      " [[7 3 5]\n",
      " [4 6 2]] \n",
      "\n",
      "B =\n",
      " [[0 6 4]\n",
      " [2 3 0]] \n",
      "\n",
      "A + B = \n",
      " [[7 9 9]\n",
      " [6 9 2]] \n",
      "\n",
      "B + A = \n",
      " [[7 9 9]\n",
      " [6 9 2]] \n",
      "\n",
      "3A = \n",
      " [[21  9 15]\n",
      " [12 18  6]] \n",
      "\n",
      "6B = \n",
      " [[ 0 36 24]\n",
      " [12 18  0]] \n",
      "\n",
      "2(3B) = \n",
      " [[ 0 36 24]\n",
      " [12 18  0]] \n",
      "\n",
      "6A + 15B = \n",
      " [[ 42 108  90]\n",
      " [ 54  81  12]] \n",
      "\n",
      "3(2A + 5B) = \n",
      " [[ 42 288 210]\n",
      " [114 171  12]] \n",
      "\n",
      "(3A^T)^T = \n",
      " [[21  9 15]\n",
      " [12 18  6]] \n",
      "\n"
     ]
    }
   ],
   "source": [
    "u=np.array([[2],[7],[2]])\n",
    "v=np.array([[8],[2],[4]])\n",
    "\n",
    "A=np.array([[7,3,5],[4,6,2]])\n",
    "B=np.array([[0,6,4],[2,3,0]])\n",
    "A_plus_B=A+B\n",
    "B_plus_A=B+A\n",
    "res_3A=3*A\n",
    "res_6B=6*B\n",
    "res_2_times_3B=2*(3*B)\n",
    "res_6A_plus_15B=6*A+15*B\n",
    "res_3_times_2A_plus_5B=3*(2*A+15*B)\n",
    "res_3_A_T_T=(3*A.T).T\n",
    "print(\"u =\\n\",u,\"\\n\")\n",
    "print(\"v =\\n\", v,\"\\n\")\n",
    "print(\"A =\\n\",A,\"\\n\")\n",
    "print(\"B =\\n\",B,\"\\n\")\n",
    "print(\"A + B = \\n\",A_plus_B,\"\\n\")\n",
    "print(\"B + A = \\n\",B_plus_A,\"\\n\")\n",
    "print(\"3A = \\n\",res_3A,\"\\n\")\n",
    "print(\"6B = \\n\",res_6B,\"\\n\")\n",
    "print(\"2(3B) = \\n\",res_2_times_3B,\"\\n\")\n",
    "print(\"6A + 15B = \\n\",res_6A_plus_15B,\"\\n\")\n",
    "print(\"3(2A + 5B) = \\n\",res_3_times_2A_plus_5B,\"\\n\")\n",
    "print(\"(3A^T)^T = \\n\",res_3_A_T_T,\"\\n\")\n",
    "\n",
    "\n",
    "\n",
    "\n",
    "\n"
   ]
  },
  {
   "cell_type": "code",
   "execution_count": 12,
   "metadata": {},
   "outputs": [
    {
     "name": "stdout",
     "output_type": "stream",
     "text": [
      "u =\n",
      " [[2]\n",
      " [7]\n",
      " [2]]\n",
      "\n",
      "v =\n",
      " [[8]\n",
      " [2]\n",
      " [4]]\n",
      "\n",
      "A =\n",
      " [[7 3 5]\n",
      " [4 6 2]]\n",
      "\n",
      "B =\n",
      " [[0 6 4]\n",
      " [2 3 0]]\n",
      "\n",
      "A + B =\n",
      " [[7 9 9]\n",
      " [6 9 2]]\n",
      "\n",
      "B + A =\n",
      " [[7 9 9]\n",
      " [6 9 2]]\n",
      "\n",
      "3A =\n",
      " [[21  9 15]\n",
      " [12 18  6]]\n",
      "\n",
      "6B =\n",
      " [[ 0 36 24]\n",
      " [12 18  0]]\n",
      "\n",
      "2(3B) =\n",
      " [[ 0 36 24]\n",
      " [12 18  0]]\n",
      "\n",
      "6A + 15B =\n",
      " [[ 42 108  90]\n",
      " [ 54  81  12]]\n",
      "\n",
      "3(2A + 5B) =\n",
      " [[ 42 108  90]\n",
      " [ 54  81  12]]\n",
      "\n",
      "\n",
      " (3A^T)^T = \n",
      " [[21  9 15]\n",
      " [12 18  6]]\n"
     ]
    }
   ],
   "source": [
    "#type your code here:\n"
   ]
  },
  {
   "cell_type": "markdown",
   "metadata": {},
   "source": [
    "b) To obtain the matrix-vector product $Au$ using python, type `A @ u`. Calculate the following:\n",
    "\n",
    "- $Au+Av$\n",
    "- $A(u+v)$\n",
    "- $(A+B)u$\n",
    "- $Au+Bu$\n",
    "- $A(3u)$\n",
    "- $3A(u)$"
   ]
  },
  {
   "cell_type": "code",
   "execution_count": 77,
   "metadata": {},
   "outputs": [
    {
     "name": "stdout",
     "output_type": "stream",
     "text": [
      "Au + Av =\n",
      "[[127]\n",
      " [106]]\n",
      "\n",
      " A(u + v) =\n",
      "[[127]\n",
      " [106]]\n",
      "\n",
      " (A + B)u =\n",
      "[[95]\n",
      " [79]]\n",
      "\n",
      " Au + Bu =\n",
      "[[95]\n",
      " [79]]\n",
      "\n",
      " A(3u) =\n",
      "[[135]\n",
      " [162]]\n",
      "\n",
      " 3(Au) = \n",
      "[[135]\n",
      " [162]]\n"
     ]
    }
   ],
   "source": [
    "result_Au_plus_Av = A@u + A @ v\n",
    "result_A_u_plus_v = A @ (u + v)\n",
    "result_A_plus_B_u = (A + B) @ u\n",
    "result_Au_plus_Bu = A @ u + B @ u\n",
    "result_A_times_3u = A @ (3 * u)\n",
    "result_3A_times_u = 3 * (A @ u)\n",
    "\n",
    "# Displaying results\n",
    "print(\"Au + Av =\")\n",
    "print(result_Au_plus_Av)\n",
    "\n",
    "print(\"\\n A(u + v) =\")\n",
    "print(result_A_u_plus_v)\n",
    "\n",
    "print(\"\\n (A + B)u =\")\n",
    "print(result_A_plus_B_u)\n",
    "\n",
    "print(\"\\n Au + Bu =\")\n",
    "print(result_Au_plus_Bu)\n",
    "\n",
    "print(\"\\n A(3u) =\")\n",
    "print(result_A_times_3u)\n",
    "\n",
    "print(\"\\n 3(Au) = \")\n",
    "print(result_3A_times_u)"
   ]
  },
  {
   "cell_type": "code",
   "execution_count": 13,
   "metadata": {},
   "outputs": [
    {
     "name": "stdout",
     "output_type": "stream",
     "text": [
      "Au + Av =\n",
      " [[127]\n",
      " [106]]\n",
      "\n",
      "A(u + v) =\n",
      " [[127]\n",
      " [106]]\n",
      "\n",
      "(A + B)u =\n",
      " [[95]\n",
      " [79]]\n",
      "\n",
      "Au + Bu =\n",
      " [[95]\n",
      " [79]]\n",
      "\n",
      "A(3u) =\n",
      " [[135]\n",
      " [162]]\n",
      "\n",
      "3A(u) =\n",
      " [[135]\n",
      " [162]]\n",
      "\n"
     ]
    }
   ],
   "source": [
    "#type your code here:\n"
   ]
  },
  {
   "cell_type": "markdown",
   "metadata": {},
   "source": [
    "# Question 4. Gaussian Elimination and Reduced Row-Echelon Form"
   ]
  },
  {
   "cell_type": "markdown",
   "metadata": {},
   "source": [
    "You will see a step-by-step example of the row operations that transform a matrix $A$ into its reduced row echelon form $R = rref(A)$. In this demonstration, each pivot is chosen to be the largest in its column (for numerical stability), so extra row interchanges are used. Since $rref(A)$ is uniquely determined by $A$, this does not affect the final answer.\n",
    "\n",
    "The built in [rref](https://docs.sympy.org/latest/tutorial/matrices.html#rref) method `sympy.rref()` method just search for the method and its output to deal with the code."
   ]
  },
  {
   "cell_type": "markdown",
   "metadata": {},
   "source": [
    "#### (a) Generate and display a $3 \\times 4$ matrix $A$ with random integer entries "
   ]
  },
  {
   "cell_type": "code",
   "execution_count": 281,
   "metadata": {},
   "outputs": [
    {
     "name": "stdout",
     "output_type": "stream",
     "text": [
      "\n",
      " A = \n",
      " [[3. 9. 7. 5.]\n",
      " [1. 1. 0. 8.]\n",
      " [6. 7. 0. 9.]]\n"
     ]
    }
   ],
   "source": [
    "# to set a random set \n",
    "\n",
    "np.random.seed(42)\n",
    "# (a) Generate and display a  3×4 with random integer entries \n",
    "#A = np.random.randint(0,10,size=(3,4)).astype(float)\n",
    "#print(\" \\n A = \",A ,\"\\n\")\n",
    " \n",
    "    \n",
    "    \n",
    "A = np.fix((10*(np.random.rand(3,4))))\n",
    "print(\"\\n A = \\n\", A)"
   ]
  },
  {
   "cell_type": "code",
   "execution_count": 14,
   "metadata": {},
   "outputs": [
    {
     "name": "stdout",
     "output_type": "stream",
     "text": [
      "\n",
      " A = \n",
      " [[8. 0. 4. 1.]\n",
      " [6. 6. 2. 7.]\n",
      " [0. 1. 6. 0.]]\n"
     ]
    }
   ],
   "source": [
    "#type your code here:\n",
    "A = np.fix((10*(np.random.rand(3,4))))\n",
    "print(\"\\n A = \\n\", A)"
   ]
  },
  {
   "cell_type": "markdown",
   "metadata": {},
   "source": [
    "- To transform $A$ into $R = rref(A)$, start with $R = A$.\n",
    "- Normalize the first row of R to get R(1st row, 1st column) = 1\n",
    "\n",
    "    - `R = A`\n",
    "    - `R[0,:] = R[0, :] / R[0, 0]`\n",
    "\n",
    "(note the use of the colon to operate on whole rows of the matrix). \n",
    "\n",
    "<div class=\"alert alert-block alert-warning\">If your random matrix happens to have A(1, 1) = 0, then interchange rows to get a nonzero entry in the (1, 1) position before doing the calculation above.</div>\n",
    "\n",
    "- Now subtract a multiple of the first row of R from the second row to make R(2, 1) = 0:\n",
    "\n",
    "    - `R[1, :] = R[1, :] - R[1, 0] * R[0, :]`\n",
    "\n",
    "- Repeat this procedure to make R(3, 1) = 0:\n",
    "\n",
    "    - `R[2, :] = R[2, :] - R[2, 0] * R[0, :]`\n",
    "\n",
    "The first column of your matrix $R$ should now be the same as the first column of $rref(A)$."
   ]
  },
  {
   "cell_type": "code",
   "execution_count": 282,
   "metadata": {},
   "outputs": [
    {
     "name": "stdout",
     "output_type": "stream",
     "text": [
      "R = \n",
      "  [[  1.           3.           2.33333333   1.66666667]\n",
      " [  0.          -2.          -2.33333333   6.33333333]\n",
      " [  0.         -11.         -14.          -1.        ]]\n"
     ]
    }
   ],
   "source": [
    "R=A\n",
    "R[0, :] = R[0, :] / R[0, 0]\n",
    "R[1, :] = R[1, :] - R[1,0] * R[0,:]\n",
    "R[2, :] = R[2, :] - R[2,0] * R[0,:]\n",
    "print(\"R = \\n \",R)"
   ]
  },
  {
   "cell_type": "code",
   "execution_count": 15,
   "metadata": {},
   "outputs": [
    {
     "name": "stdout",
     "output_type": "stream",
     "text": [
      "\n",
      " R = \n",
      " [[ 1.     0.     0.5    0.125]\n",
      " [ 0.     6.    -1.     6.25 ]\n",
      " [ 0.     1.     6.     0.   ]]\n"
     ]
    }
   ],
   "source": [
    "#type your code here:\n"
   ]
  },
  {
   "cell_type": "markdown",
   "metadata": {},
   "source": [
    "#### (b)Operate on $R$ by the same method as in (a) to obtain the second column of $rref(A)$. First normalize row $2$ of $R$, then subtract multiples of row $2$ from rows $1$ and $3$ to put zeros in the (1, 2) and (3, 2) positions. Be sure to refer to the entries in your matrix symbolically as was done in part (a)"
   ]
  },
  {
   "cell_type": "code",
   "execution_count": 283,
   "metadata": {},
   "outputs": [
    {
     "name": "stdout",
     "output_type": "stream",
     "text": [
      "R = \n",
      "  [[  1.           0.          -1.16666667  11.16666667]\n",
      " [ -0.           1.           1.16666667  -3.16666667]\n",
      " [  0.           0.          -1.16666667 -35.83333333]]\n"
     ]
    }
   ],
   "source": [
    "R[1, :] = R[1, :] /R[1,1]\n",
    "R[2,:]=R[2,:]-R[2,1]*R[1,:]\n",
    "R[0,:]=R[0,:]-R[1,:]*R[0,1]\n",
    "print(\"R = \\n \",R)"
   ]
  },
  {
   "cell_type": "code",
   "execution_count": 16,
   "metadata": {},
   "outputs": [
    {
     "name": "stdout",
     "output_type": "stream",
     "text": [
      "\n",
      " R = \n",
      " [[ 1.          0.          0.5         0.125     ]\n",
      " [ 0.          1.         -0.16666667  1.04166667]\n",
      " [ 0.          0.          6.16666667 -1.04166667]]\n"
     ]
    }
   ],
   "source": [
    "#type your code here:\n"
   ]
  },
  {
   "cell_type": "markdown",
   "metadata": {},
   "source": [
    "#### (c) Operate on $R$ by the same method as in (b) to obtain the third column of $rref(A)$. First normalize row $3$ of $R$, then subtract multiples of row $3$ from rows $1$ and $2$ to put zeros in the (1, 3) and (2, 3) positions."
   ]
  },
  {
   "cell_type": "code",
   "execution_count": 284,
   "metadata": {},
   "outputs": [
    {
     "name": "stdout",
     "output_type": "stream",
     "text": [
      "R = \n",
      "  [[  1.           0.           0.          47.        ]\n",
      " [  0.           1.           0.         -39.        ]\n",
      " [ -0.          -0.           1.          30.71428571]]\n"
     ]
    }
   ],
   "source": [
    "R[2, :] = R[2, :] /R[2,2]\n",
    "R[1,:]=R[1,:]-R[2,:]*R[1,2]\n",
    "R[0,:]=R[0,:]-R[2,:]*R[0,2]\n",
    "print(\"R = \\n \",R)"
   ]
  },
  {
   "cell_type": "code",
   "execution_count": 17,
   "metadata": {},
   "outputs": [
    {
     "name": "stdout",
     "output_type": "stream",
     "text": [
      "\n",
      " R = \n",
      " [[ 1.          0.          0.          0.20945946]\n",
      " [ 0.          1.          0.          1.01351351]\n",
      " [ 0.          0.          1.         -0.16891892]]\n"
     ]
    }
   ],
   "source": [
    "#type your code here:\n",
    "\n"
   ]
  },
  {
   "cell_type": "markdown",
   "metadata": {},
   "source": [
    "#### (d) Your matrix $R$ should now be transformed into $rref(A)$ (since $A$ is a random $3 \\times 4$ matrix, $rref(A)$ is (almost) sure to have rank (3) `np.linalg.matrix_rank(R)`. Check your answer by python with the rref method . If the answer is not the same as the current value of your $R$, go back and redo your calculations.\n",
    "\n",
    "- use the the built in rref method `sympy.rref()`\n",
    "- print the output matrix in numpy array type\n",
    "\n",
    "    - `M = sym.Matrix(A)`\n",
    "    - `M_rref = M.rref()`\n",
    "    - `R = np.array((M_rref[0])).astype(np.float64)`"
   ]
  },
  {
   "cell_type": "code",
   "execution_count": 285,
   "metadata": {},
   "outputs": [
    {
     "name": "stdout",
     "output_type": "stream",
     "text": [
      "rank = \n",
      "  3 \n",
      "\n",
      "The Row echelon form of matrix M \n",
      "  [[  1.           0.           0.          47.        ]\n",
      " [  0.           1.           0.         -39.        ]\n",
      " [  0.           0.           1.          30.71428571]]\n"
     ]
    }
   ],
   "source": [
    "import sympy as sym\n",
    "M = sym.Matrix(A)\n",
    "M_rref = M.rref()\n",
    "R = np.array((M_rref[0])).astype(np.float64)\n",
    "\n",
    "rank_A=np.linalg.matrix_rank(A)\n",
    "rank_R=np.linalg.matrix_rank(R)\n",
    "print(\"rank = \\n \", rank_A,\"\\n\")\n",
    "if rank_A == rank_R :\n",
    "    print (\"The Row echelon form of matrix M \\n \",R)\n",
    "else:\n",
    "    print (\"\\n \\n the rank are different\")"
   ]
  },
  {
   "cell_type": "code",
   "execution_count": 18,
   "metadata": {},
   "outputs": [
    {
     "name": "stdout",
     "output_type": "stream",
     "text": [
      "\n",
      " rank = \n",
      " 3\n",
      "\n",
      " The Row echelon form of matrix M \n",
      " [[ 1.          0.          0.          0.20945946]\n",
      " [ 0.          1.          0.          1.01351351]\n",
      " [ 0.          0.          1.         -0.16891892]]\n"
     ]
    }
   ],
   "source": [
    "#type your code here:\n",
    "\n",
    "# Use sympy.rref() method \n"
   ]
  },
  {
   "cell_type": "markdown",
   "metadata": {},
   "source": [
    "# Question 5. Matrix Multiplication using Different views"
   ]
  },
  {
   "cell_type": "markdown",
   "metadata": {},
   "source": [
    "we discussed in the lecture four different ways about product $AB = C$ where $A$ and $B$ are arbitry matrices. If $A$ is an $m \\times n$ matrix and $B$ is an $n \\times p$ matrix, then $C$ is an $m \\times p$ matrix:\n",
    "\n",
    "1. **Standard(row times column):** The standard way of describing a matrix product is to say that $c_(ij)$ equals the dot product of row $i$ of matrix $A$ and column $j$ of matrix $B$. \n",
    " \n",
    "2. **Columns:** The product of matrix $A$ and column $j$ of matrix $B$ equals column $j$ of matrix  $C$. This tells us that the columns of $C$ are combinations of columns of $A$.\n",
    "\n",
    "3. **Rows:** The product of row $i$ of matrix $A$ and matrix $B$ equals row $i$ of matrix $C$.So the rows of $C$ are combinations of rows of $B$.\n",
    "\n",
    "4. **Column times row**: A column of $A$ is an $m \\times 1$ vector and a row of $B$ is a $1 \\times p$ vector.Their product is a matrix."
   ]
  },
  {
   "cell_type": "code",
   "execution_count": 17,
   "metadata": {},
   "outputs": [],
   "source": [
    "\n",
    "def check_dimension(A, B):\n",
    "    return A.shape[1] == B.shape[0]\n",
    "\n",
    "def mat_mul_standard(A, B):\n",
    "    if not check_dimension(A, B):\n",
    "        raise Exception('Dimensions aren\\'t consistent')\n",
    "\n",
    "    m, n = A.shape\n",
    "    n, p = B.shape\n",
    "\n",
    "    C = np.zeros((m, p))\n",
    "\n",
    "    for i in range(m):\n",
    "        for j in range(p):\n",
    "            # Dot product of row i of matrix A and column j of matrix B\n",
    "            C[i, j] = np.dot(A[i, :], B[:, j])\n",
    "\n",
    "    return C\n",
    "\n",
    "def mat_mul_columns(A, B):\n",
    "    if not check_dimension(A, B):\n",
    "        raise Exception('Dimensions aren\\'t consistent')\n",
    "\n",
    "    m, n = A.shape\n",
    "    n, p = B.shape\n",
    "\n",
    "    C = np.zeros((m, p))\n",
    "\n",
    "    for j in range(p):\n",
    "        # Multiplying matrix A with column j of matrix B to get column j of matrix C\n",
    "        C[:, j] = A @ B[:, j]\n",
    "\n",
    "    return C\n",
    "\n",
    "def mat_mul_rows(A, B):\n",
    "    if not check_dimension(A, B):\n",
    "        raise Exception('Dimensions aren\\'t consistent')\n",
    "\n",
    "    m, n = A.shape\n",
    "    n, p = B.shape\n",
    "\n",
    "    C = np.zeros((m, p))\n",
    "\n",
    "    for i in range(m):\n",
    "        # Multiplying row i of matrix A with matrix B to get row i of matrix C\n",
    "        C[i, :] = A[i, :] @ B\n",
    "\n",
    "    return C\n",
    "\n",
    "\n",
    "\n",
    "\n",
    "def mat_mul_column_times_row(A, B):\n",
    "    if not check_dimension(A, B):\n",
    "        raise Exception('Dimensions aren\\'t consistent')\n",
    "\n",
    "    m, n = A.shape\n",
    "    n, p = B.shape\n",
    "\n",
    "    C = np.zeros((m, p))\n",
    "\n",
    "    for i in range(n):\n",
    "        C+= np.dot(A[:,[i]], B[[i],:])\n",
    "        \n",
    "    return C\n",
    "\n",
    "# def mat_mul_column_times_row(A, B):\n",
    "#     if not check_dimension(A, B):\n",
    "#         raise Exception('Dimensions aren\\'t consistent')\n",
    "\n",
    "#     m, n = A.shape\n",
    "#     n, p = B.shape\n",
    "\n",
    "#     C = np.zeros((m, p))\n",
    "\n",
    "#     for i in range(m):\n",
    "#         for j in range(p):\n",
    "#             # Column vector from matrix A multiplied by row vector from matrix B to get matrix C\n",
    "#             C[i,:] = np.dot(A[:, i], B.T)\n",
    "\n",
    "#     return C \n",
    "\n",
    "\n",
    "\n",
    "# def mat_mul_column_times_row_optimized(A, B):\n",
    "#     if not check_dimension(A, B):\n",
    "#         raise Exception('Dimensions aren\\'t consistent')\n",
    "\n",
    "#     # Transpose matrix B for efficient column access\n",
    "#     B_T = B.T\n",
    "\n",
    "#     # Matrix C initialization\n",
    "#     C = np.dot(A.T, B_T)\n",
    "\n",
    "#     return C"
   ]
  },
  {
   "cell_type": "markdown",
   "metadata": {},
   "source": [
    "In this problem we will use python to perform the matrix multiplication using these different ways, and compute the execution time for each method time.\n",
    "\n",
    "(Write your code as a function that perform the multiplication for arbitrary size of the matrices $A$ and $B$)"
   ]
  },
  {
   "cell_type": "code",
   "execution_count": 229,
   "metadata": {},
   "outputs": [],
   "source": [
    "def check_dimension(A, B):\n",
    "    return A.shape[1] == B.shape[0]\n",
    "\n",
    "def mat_mul_standard(A, B):\n",
    "    if not check_dimension(A, B):\n",
    "        raise Exception('Dimensions aren\\'t consistant')\n",
    "        \n",
    "    m, n = A.shape\n",
    "    n, p = B.shape\n",
    "            \n",
    "    C = np.zeros((m, p))\n",
    "    ################type your code here#####################\n",
    "    \n",
    "\n",
    "    ########################################################        \n",
    "    return C\n",
    "\n",
    "\n",
    "def mat_mul_columns(A, B):\n",
    "    if not check_dimension(A, B):\n",
    "        raise Exception('Dimensions aren\\'t consistant')\n",
    "        \n",
    "    m, n = A.shape\n",
    "    n, p = B.shape\n",
    "            \n",
    "    C = np.zeros((m, p))\n",
    "    ################type your code here#####################\n",
    "    \n",
    "\n",
    "    ########################################################         \n",
    "    return C\n",
    "\n",
    "def mat_mul_rows(A, B):\n",
    "    if not check_dimension(A, B):\n",
    "        raise Exception('Dimensions aren\\'t consistant')\n",
    "        \n",
    "    m, n = A.shape\n",
    "    n, p = B.shape\n",
    "            \n",
    "    C = np.zeros((m, p))\n",
    "    ################type your code here#####################\n",
    "    \n",
    "\n",
    "    ########################################################         \n",
    "    return C\n",
    "\n",
    "\n",
    "\n",
    "def mat_mul_column_times_row(A, B):\n",
    "    if not check_dimension(A, B):\n",
    "        raise Exception('Dimensions aren\\'t consistant')\n",
    "        \n",
    "    m, n = A.shape\n",
    "    n, p = B.shape\n",
    "            \n",
    "    C = np.zeros((m, p))\n",
    "    ################type your code here#####################\n",
    "    \n",
    "\n",
    "    ########################################################         \n",
    "    return C"
   ]
  },
  {
   "cell_type": "code",
   "execution_count": 18,
   "metadata": {},
   "outputs": [],
   "source": [
    "#A = np.array([[12., 7., 3.],[4., 5., 6.],[7., 8., 9.]])\n",
    "#B = np.array([[5., 8., 1., 2.],[6., 7., 3., 0.],[4., 5., 9., 1.]])\n",
    "\n",
    "A = np.fix((10*(np.random.rand(300, 300))))\n",
    "B = np.fix((10*(np.random.rand(300, 300))))"
   ]
  },
  {
   "cell_type": "code",
   "execution_count": 19,
   "metadata": {},
   "outputs": [
    {
     "name": "stdout",
     "output_type": "stream",
     "text": [
      "A @ B = \n",
      " [[5907. 5925. 5897. ... 6676. 6370. 6158.]\n",
      " [5779. 6057. 5900. ... 6525. 6290. 5893.]\n",
      " [5784. 6107. 6201. ... 6914. 6341. 6152.]\n",
      " ...\n",
      " [5654. 5850. 5662. ... 6572. 5951. 5615.]\n",
      " [5861. 6005. 5905. ... 6463. 5956. 5629.]\n",
      " [5702. 5904. 5878. ... 6299. 6115. 6090.]]\n",
      "CPU times: total: 0 ns\n",
      "Wall time: 1.99 ms\n"
     ]
    }
   ],
   "source": [
    "%%time\n",
    "print('A @ B = \\n', A @ B)"
   ]
  },
  {
   "cell_type": "code",
   "execution_count": 20,
   "metadata": {},
   "outputs": [
    {
     "name": "stdout",
     "output_type": "stream",
     "text": [
      "C_standard = \n",
      " [[5907. 5925. 5897. ... 6676. 6370. 6158.]\n",
      " [5779. 6057. 5900. ... 6525. 6290. 5893.]\n",
      " [5784. 6107. 6201. ... 6914. 6341. 6152.]\n",
      " ...\n",
      " [5654. 5850. 5662. ... 6572. 5951. 5615.]\n",
      " [5861. 6005. 5905. ... 6463. 5956. 5629.]\n",
      " [5702. 5904. 5878. ... 6299. 6115. 6090.]]\n",
      "CPU times: total: 156 ms\n",
      "Wall time: 162 ms\n"
     ]
    }
   ],
   "source": [
    "%%time\n",
    "C_standard = mat_mul_standard(A, B)\n",
    "print('C_standard = \\n', C_standard)"
   ]
  },
  {
   "cell_type": "code",
   "execution_count": 21,
   "metadata": {},
   "outputs": [
    {
     "name": "stdout",
     "output_type": "stream",
     "text": [
      "C_columns = \n",
      " [[5907. 5925. 5897. ... 6676. 6370. 6158.]\n",
      " [5779. 6057. 5900. ... 6525. 6290. 5893.]\n",
      " [5784. 6107. 6201. ... 6914. 6341. 6152.]\n",
      " ...\n",
      " [5654. 5850. 5662. ... 6572. 5951. 5615.]\n",
      " [5861. 6005. 5905. ... 6463. 5956. 5629.]\n",
      " [5702. 5904. 5878. ... 6299. 6115. 6090.]]\n",
      "CPU times: total: 93.8 ms\n",
      "Wall time: 6.7 ms\n"
     ]
    }
   ],
   "source": [
    "%%time\n",
    "C_columns = mat_mul_columns(A, B)\n",
    "print('C_columns = \\n', C_columns)"
   ]
  },
  {
   "cell_type": "code",
   "execution_count": 22,
   "metadata": {},
   "outputs": [
    {
     "name": "stdout",
     "output_type": "stream",
     "text": [
      "C_rows = \n",
      " [[5907. 5925. 5897. ... 6676. 6370. 6158.]\n",
      " [5779. 6057. 5900. ... 6525. 6290. 5893.]\n",
      " [5784. 6107. 6201. ... 6914. 6341. 6152.]\n",
      " ...\n",
      " [5654. 5850. 5662. ... 6572. 5951. 5615.]\n",
      " [5861. 6005. 5905. ... 6463. 5956. 5629.]\n",
      " [5702. 5904. 5878. ... 6299. 6115. 6090.]]\n",
      "CPU times: total: 0 ns\n",
      "Wall time: 5.98 ms\n"
     ]
    }
   ],
   "source": [
    "%%time\n",
    "C_rows = mat_mul_rows(A, B)\n",
    "print('C_rows = \\n', C_rows)"
   ]
  },
  {
   "cell_type": "code",
   "execution_count": 23,
   "metadata": {},
   "outputs": [
    {
     "name": "stdout",
     "output_type": "stream",
     "text": [
      "C_column_times_row = \n",
      " [[5907. 5925. 5897. ... 6676. 6370. 6158.]\n",
      " [5779. 6057. 5900. ... 6525. 6290. 5893.]\n",
      " [5784. 6107. 6201. ... 6914. 6341. 6152.]\n",
      " ...\n",
      " [5654. 5850. 5662. ... 6572. 5951. 5615.]\n",
      " [5861. 6005. 5905. ... 6463. 5956. 5629.]\n",
      " [5702. 5904. 5878. ... 6299. 6115. 6090.]]\n",
      "CPU times: total: 203 ms\n",
      "Wall time: 22.9 ms\n"
     ]
    }
   ],
   "source": [
    "%%time\n",
    "C_column_times_row = mat_mul_column_times_row(A , B)\n",
    "print('C_column_times_row = \\n', C_column_times_row)"
   ]
  },
  {
   "cell_type": "code",
   "execution_count": null,
   "metadata": {},
   "outputs": [],
   "source": []
  },
  {
   "cell_type": "code",
   "execution_count": null,
   "metadata": {},
   "outputs": [],
   "source": []
  }
 ],
 "metadata": {
  "kernelspec": {
   "display_name": "Python 3 (ipykernel)",
   "language": "python",
   "name": "python3"
  },
  "language_info": {
   "codemirror_mode": {
    "name": "ipython",
    "version": 3
   },
   "file_extension": ".py",
   "mimetype": "text/x-python",
   "name": "python",
   "nbconvert_exporter": "python",
   "pygments_lexer": "ipython3",
   "version": "3.11.5"
  }
 },
 "nbformat": 4,
 "nbformat_minor": 4
}
