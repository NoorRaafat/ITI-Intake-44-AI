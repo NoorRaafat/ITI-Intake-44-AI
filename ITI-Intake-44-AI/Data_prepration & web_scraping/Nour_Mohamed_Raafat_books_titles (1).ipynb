{
 "cells": [
  {
   "cell_type": "code",
   "execution_count": 52,
   "id": "182e8af2",
   "metadata": {},
   "outputs": [],
   "source": [
    "from selenium import webdriver\n",
    "from selenium.webdriver.common.by import By\n",
    "import requests\n",
    "import urllib\n",
    "import time\n",
    "import pandas as pd"
   ]
  },
  {
   "cell_type": "code",
   "execution_count": 28,
   "id": "937cde8e",
   "metadata": {},
   "outputs": [
    {
     "name": "stderr",
     "output_type": "stream",
     "text": [
      "The chromedriver version (119.0.6045.105) detected in PATH at C:\\Users\\user\\data_prepration\\chromedriver.exe might not be compatible with the detected chrome version (120.0.6099.130); currently, chromedriver 120.0.6099.109 is recommended for chrome 120.*, so it is advised to delete the driver in PATH and retry\n"
     ]
    }
   ],
   "source": [
    "# to create an instance of a browser\n",
    "driver=webdriver.Chrome()"
   ]
  },
  {
   "cell_type": "code",
   "execution_count": 29,
   "id": "eb61988d",
   "metadata": {},
   "outputs": [],
   "source": [
    "# columns={'name':[],'price':[]}"
   ]
  },
  {
   "cell_type": "code",
   "execution_count": 30,
   "id": "8bcc77d1",
   "metadata": {},
   "outputs": [],
   "source": [
    "path=\"https://www.amazon.in/gp/bestsellers/books/\"\n",
    "driver.get(path)\n",
    "   \n",
    "    "
   ]
  },
  {
   "cell_type": "code",
   "execution_count": 31,
   "id": "e676b6af",
   "metadata": {},
   "outputs": [],
   "source": [
    "time.sleep(10)"
   ]
  },
  {
   "cell_type": "code",
   "execution_count": 32,
   "id": "5864f3d1",
   "metadata": {},
   "outputs": [],
   "source": [
    "# products_contanier=driver.find_elements(By.XPATH,\"//div[@class='_cDEzb_iveVideoWrapper_JJ34T']\")\n",
    "# len(products_contanier)"
   ]
  },
  {
   "cell_type": "code",
   "execution_count": 33,
   "id": "77bf370f",
   "metadata": {},
   "outputs": [],
   "source": [
    "# beacuse it does not download all page content so to scroll all page \n",
    "Height=0\n",
    "for i in range (15):\n",
    "    Height=Height+700\n",
    "    driver.execute_script(f\"window.scrollTo(0,{Height})\")\n",
    "    time.sleep(1)"
   ]
  },
  {
   "cell_type": "code",
   "execution_count": 34,
   "id": "91983091",
   "metadata": {},
   "outputs": [
    {
     "data": {
      "text/plain": [
       "34"
      ]
     },
     "execution_count": 34,
     "metadata": {},
     "output_type": "execute_result"
    }
   ],
   "source": [
    "products_contanier=driver.find_elements(By.XPATH,\"//div[@class='_cDEzb_iveVideoWrapper_JJ34T']\")\n",
    "len(products_contanier)"
   ]
  },
  {
   "cell_type": "code",
   "execution_count": 35,
   "id": "c57e3b28",
   "metadata": {},
   "outputs": [],
   "source": [
    "book_names=[]\n",
    "books_prices=[]\n",
    "book_name=products_contanier[0].find_element(By.XPATH,\"//span/div[@class='_cDEzb_p13n-sc-css-line-clamp-2_EWgCb']\").text\n",
    "book_price=products_contanier[0].find_element(By.XPATH,\"//span/span[@class='_cDEzb_p13n-sc-price_3mJ9Z']\").text\n",
    "book_names.append(book_name)\n",
    "books_prices.append(book_price)"
   ]
  },
  {
   "cell_type": "code",
   "execution_count": 36,
   "id": "9c90490d",
   "metadata": {},
   "outputs": [
    {
     "data": {
      "text/plain": [
       "['UP Constable MATHS by Aditya Ranjan Sir']"
      ]
     },
     "execution_count": 36,
     "metadata": {},
     "output_type": "execute_result"
    }
   ],
   "source": [
    "book_names"
   ]
  },
  {
   "cell_type": "code",
   "execution_count": 40,
   "id": "a108e89a",
   "metadata": {},
   "outputs": [],
   "source": [
    "for i in range(len(products_contanier)):\n",
    "    if i > 0:\n",
    "        book_name = products_contanier[i].find_element(By.XPATH, \".//div[ @class ='_cDEzb_p13n-sc-css-line-clamp-1_1Fn1y']\")\n",
    "        book_price = products_contanier[i].find_element(By.XPATH, \".//span[ @class ='_cDEzb_p13n-sc-price_3mJ9Z']\")\n",
    "\n",
    "        book_names.append(book_name.text)\n",
    "        books_prices.append(book_price.text)"
   ]
  },
  {
   "cell_type": "code",
   "execution_count": 41,
   "id": "eb4affea",
   "metadata": {},
   "outputs": [
    {
     "data": {
      "text/plain": [
       "67"
      ]
     },
     "execution_count": 41,
     "metadata": {},
     "output_type": "execute_result"
    }
   ],
   "source": [
    "len(book_names)"
   ]
  },
  {
   "cell_type": "code",
   "execution_count": 42,
   "id": "e5ace3fd",
   "metadata": {},
   "outputs": [
    {
     "data": {
      "text/plain": [
       "67"
      ]
     },
     "execution_count": 42,
     "metadata": {},
     "output_type": "execute_result"
    }
   ],
   "source": [
    "len(books_prices)"
   ]
  },
  {
   "cell_type": "code",
   "execution_count": 44,
   "id": "4313659d",
   "metadata": {},
   "outputs": [
    {
     "data": {
      "text/plain": [
       "['UP Constable MATHS by Aditya Ranjan Sir',\n",
       " 'My First Library: Boxset of 10 Board Books for Kids',\n",
       " 'Feel-Good Productivity: How to Do More of What Matters to You',\n",
       " 'Ikigai',\n",
       " 'The Power of Your Subconscious Mind: Original Edition | Premium Paperback',\n",
       " 'Aditya Ranjan',\n",
       " 'The Psychology Of Money',\n",
       " 'Shrimad Bhagwat Geeta Yatharoop',\n",
       " '201 Brain Booster Activity Book - Fun Activities and Exercises For Children: Tracing & Pattern, Colors & Shapes, Maze',\n",
       " 'Rich Dad Poor Dad: 25th Anniversary Edit',\n",
       " 'Do It Today: Overcome procrastination, improve productivity and achieve more meaningful things [Paperback] Foroux, Darius',\n",
       " 'Colouring Books Boxset: Pack of 12 Copy Colour Books For Children',\n",
       " \"Breaking the Mould : Reimagining India's Economic Future\",\n",
       " 'My First Book of Patterns Pencil Control: Patterns Practice book for kids (Pattern Writing)',\n",
       " 'All Religions Are Not The Same',\n",
       " 'Oswaal CBSE LMP Last Minute Preparation System Class 10 (English Language & Literature, Science, Mathematics Standard & Social Science) With Board Additional Practice Questions For 2024 Board Exams #WinTheBoards',\n",
       " 'Rupesh Thakur Prasad Panchang 2024 /Thakur Prasad Medium Colorful Hindi Panchang Calendar 2024',\n",
       " 'MINtile Sank Magic Practice Copybook, (4 Book + 10 Refill) Number Tracing Book for Preschoolers with Pen, Magic Calligraphy Copybook Set Practical Reusable Writing Tool Simple Hand Lettering',\n",
       " 'THE 48 LAWS OF POWER',\n",
       " 'You Can',\n",
       " 'THE SILENT PATIENT [Paperback] Michaelides, Alex',\n",
       " 'The Power of Your Subconscious Mind',\n",
       " 'Same As Ever: Timeless Lessons on Risk, Opportunity and Living a Good Life',\n",
       " 'Brain Activity Book for Kids - 200+ Activities for Age 3+',\n",
       " 'Oswal - Gurukul Last Years 10 Solved Papers for CBSE Class 10 Exam 2024 - Yearwise Board Solutions of Math Standard, English, Science & Social Science (All Sets Delhi & Outside), Latest Syllabus',\n",
       " 'Think And Grow Rich [Original Edition (Complete), PREMIUM PAPERBACK]',\n",
       " 'Indian Polity for UPSC (English| 7th Edition) |Civil Services Exam| State Administrative Exams',\n",
       " 'Meditations',\n",
       " 'Moral Story Books for Kids (Illustrated) - English Short Stories with Colourful Pictures - Bedtime Children Story Book - 3 Years to 6 Years Old Children - Read Aloud to Infants, Toddlers (Set of 10 Books)',\n",
       " 'How to Win Friends and Influence People : Original Edition | Premium Paperback',\n",
       " 'SSC GD (COMBO) MATH +REASONING+GK+HINDI',\n",
       " 'Animals Tales From Panchtantra: Timeless Stories for Children From Ancient India',\n",
       " 'World’s Greatest Books For Personal Growth & Wealth (Set of 4 Books) : Perfect Motivational Gift Set',\n",
       " \"Tuesdays With Morrie: An old man, a young man, and life's greatest lesson [Paperback] Albom, Mitch\",\n",
       " 'My First Library: Boxset of 10 Board Books for Kids',\n",
       " 'Feel-Good Productivity: How to Do More of What Matters to You',\n",
       " 'Ikigai',\n",
       " 'The Power of Your Subconscious Mind: Original Edition | Premium Paperback',\n",
       " 'Aditya Ranjan',\n",
       " 'The Psychology Of Money',\n",
       " 'Shrimad Bhagwat Geeta Yatharoop',\n",
       " '201 Brain Booster Activity Book - Fun Activities and Exercises For Children: Tracing & Pattern, Colors & Shapes, Maze',\n",
       " 'Rich Dad Poor Dad: 25th Anniversary Edit',\n",
       " 'Do It Today: Overcome procrastination, improve productivity and achieve more meaningful things [Paperback] Foroux, Darius',\n",
       " 'Colouring Books Boxset: Pack of 12 Copy Colour Books For Children',\n",
       " \"Breaking the Mould : Reimagining India's Economic Future\",\n",
       " 'My First Book of Patterns Pencil Control: Patterns Practice book for kids (Pattern Writing)',\n",
       " 'All Religions Are Not The Same',\n",
       " 'Oswaal CBSE LMP Last Minute Preparation System Class 10 (English Language & Literature, Science, Mathematics Standard & Social Science) With Board Additional Practice Questions For 2024 Board Exams #WinTheBoards',\n",
       " 'Rupesh Thakur Prasad Panchang 2024 /Thakur Prasad Medium Colorful Hindi Panchang Calendar 2024',\n",
       " 'MINtile Sank Magic Practice Copybook, (4 Book + 10 Refill) Number Tracing Book for Preschoolers with Pen, Magic Calligraphy Copybook Set Practical Reusable Writing Tool Simple Hand Lettering',\n",
       " 'THE 48 LAWS OF POWER',\n",
       " 'You Can',\n",
       " 'THE SILENT PATIENT [Paperback] Michaelides, Alex',\n",
       " 'The Power of Your Subconscious Mind',\n",
       " 'Same As Ever: Timeless Lessons on Risk, Opportunity and Living a Good Life',\n",
       " 'Brain Activity Book for Kids - 200+ Activities for Age 3+',\n",
       " 'Oswal - Gurukul Last Years 10 Solved Papers for CBSE Class 10 Exam 2024 - Yearwise Board Solutions of Math Standard, English, Science & Social Science (All Sets Delhi & Outside), Latest Syllabus',\n",
       " 'Think And Grow Rich [Original Edition (Complete), PREMIUM PAPERBACK]',\n",
       " 'Indian Polity for UPSC (English| 7th Edition) |Civil Services Exam| State Administrative Exams',\n",
       " 'Meditations',\n",
       " 'Moral Story Books for Kids (Illustrated) - English Short Stories with Colourful Pictures - Bedtime Children Story Book - 3 Years to 6 Years Old Children - Read Aloud to Infants, Toddlers (Set of 10 Books)',\n",
       " 'How to Win Friends and Influence People : Original Edition | Premium Paperback',\n",
       " 'SSC GD (COMBO) MATH +REASONING+GK+HINDI',\n",
       " 'Animals Tales From Panchtantra: Timeless Stories for Children From Ancient India',\n",
       " 'World’s Greatest Books For Personal Growth & Wealth (Set of 4 Books) : Perfect Motivational Gift Set',\n",
       " \"Tuesdays With Morrie: An old man, a young man, and life's greatest lesson [Paperback] Albom, Mitch\"]"
      ]
     },
     "execution_count": 44,
     "metadata": {},
     "output_type": "execute_result"
    }
   ],
   "source": [
    "book_names"
   ]
  },
  {
   "cell_type": "code",
   "execution_count": 45,
   "id": "ee5a6f53",
   "metadata": {},
   "outputs": [
    {
     "data": {
      "text/plain": [
       "['₹543.00',\n",
       " '₹399.00',\n",
       " '₹499.00',\n",
       " '₹346.00',\n",
       " '₹115.00',\n",
       " '₹145.00',\n",
       " '₹310.00',\n",
       " '₹238.00',\n",
       " '₹99.00',\n",
       " '₹436.00',\n",
       " '₹144.00',\n",
       " '₹329.00',\n",
       " '₹605.00',\n",
       " '₹89.00',\n",
       " '₹395.00',\n",
       " '₹149.00',\n",
       " '₹70.00',\n",
       " '₹120.00',\n",
       " '₹628.00',\n",
       " '₹99.00',\n",
       " '₹206.00',\n",
       " '₹99.00',\n",
       " '₹321.00',\n",
       " '₹100.00',\n",
       " '₹801.00',\n",
       " '₹99.00',\n",
       " '₹792.00',\n",
       " '₹147.00',\n",
       " '₹221.00',\n",
       " '₹99.00',\n",
       " '₹399.00',\n",
       " '₹189.00',\n",
       " '₹339.00',\n",
       " '₹213.00',\n",
       " '₹399.00',\n",
       " '₹499.00',\n",
       " '₹346.00',\n",
       " '₹115.00',\n",
       " '₹145.00',\n",
       " '₹310.00',\n",
       " '₹238.00',\n",
       " '₹99.00',\n",
       " '₹436.00',\n",
       " '₹144.00',\n",
       " '₹329.00',\n",
       " '₹605.00',\n",
       " '₹89.00',\n",
       " '₹395.00',\n",
       " '₹149.00',\n",
       " '₹70.00',\n",
       " '₹120.00',\n",
       " '₹628.00',\n",
       " '₹99.00',\n",
       " '₹206.00',\n",
       " '₹99.00',\n",
       " '₹321.00',\n",
       " '₹100.00',\n",
       " '₹801.00',\n",
       " '₹99.00',\n",
       " '₹792.00',\n",
       " '₹147.00',\n",
       " '₹221.00',\n",
       " '₹99.00',\n",
       " '₹399.00',\n",
       " '₹189.00',\n",
       " '₹339.00',\n",
       " '₹213.00']"
      ]
     },
     "execution_count": 45,
     "metadata": {},
     "output_type": "execute_result"
    }
   ],
   "source": [
    "books_prices"
   ]
  },
  {
   "cell_type": "code",
   "execution_count": 49,
   "id": "a5055f64",
   "metadata": {},
   "outputs": [],
   "source": [
    "data={\n",
    "    'book_names':book_names\n",
    "    ,'book_prices':books_prices\n",
    "}\n"
   ]
  },
  {
   "cell_type": "code",
   "execution_count": 53,
   "id": "c040fb37",
   "metadata": {},
   "outputs": [],
   "source": [
    "df=pd.DataFrame(data)"
   ]
  },
  {
   "cell_type": "code",
   "execution_count": 54,
   "id": "0a5ec4f8",
   "metadata": {},
   "outputs": [
    {
     "data": {
      "text/html": [
       "<div>\n",
       "<style scoped>\n",
       "    .dataframe tbody tr th:only-of-type {\n",
       "        vertical-align: middle;\n",
       "    }\n",
       "\n",
       "    .dataframe tbody tr th {\n",
       "        vertical-align: top;\n",
       "    }\n",
       "\n",
       "    .dataframe thead th {\n",
       "        text-align: right;\n",
       "    }\n",
       "</style>\n",
       "<table border=\"1\" class=\"dataframe\">\n",
       "  <thead>\n",
       "    <tr style=\"text-align: right;\">\n",
       "      <th></th>\n",
       "      <th>book_names</th>\n",
       "      <th>book_prices</th>\n",
       "    </tr>\n",
       "  </thead>\n",
       "  <tbody>\n",
       "    <tr>\n",
       "      <th>0</th>\n",
       "      <td>UP Constable MATHS by Aditya Ranjan Sir</td>\n",
       "      <td>₹543.00</td>\n",
       "    </tr>\n",
       "    <tr>\n",
       "      <th>1</th>\n",
       "      <td>My First Library: Boxset of 10 Board Books for...</td>\n",
       "      <td>₹399.00</td>\n",
       "    </tr>\n",
       "    <tr>\n",
       "      <th>2</th>\n",
       "      <td>Feel-Good Productivity: How to Do More of What...</td>\n",
       "      <td>₹499.00</td>\n",
       "    </tr>\n",
       "    <tr>\n",
       "      <th>3</th>\n",
       "      <td>Ikigai</td>\n",
       "      <td>₹346.00</td>\n",
       "    </tr>\n",
       "    <tr>\n",
       "      <th>4</th>\n",
       "      <td>The Power of Your Subconscious Mind: Original ...</td>\n",
       "      <td>₹115.00</td>\n",
       "    </tr>\n",
       "    <tr>\n",
       "      <th>...</th>\n",
       "      <td>...</td>\n",
       "      <td>...</td>\n",
       "    </tr>\n",
       "    <tr>\n",
       "      <th>62</th>\n",
       "      <td>How to Win Friends and Influence People : Orig...</td>\n",
       "      <td>₹99.00</td>\n",
       "    </tr>\n",
       "    <tr>\n",
       "      <th>63</th>\n",
       "      <td>SSC GD (COMBO) MATH +REASONING+GK+HINDI</td>\n",
       "      <td>₹399.00</td>\n",
       "    </tr>\n",
       "    <tr>\n",
       "      <th>64</th>\n",
       "      <td>Animals Tales From Panchtantra: Timeless Stori...</td>\n",
       "      <td>₹189.00</td>\n",
       "    </tr>\n",
       "    <tr>\n",
       "      <th>65</th>\n",
       "      <td>World’s Greatest Books For Personal Growth &amp; W...</td>\n",
       "      <td>₹339.00</td>\n",
       "    </tr>\n",
       "    <tr>\n",
       "      <th>66</th>\n",
       "      <td>Tuesdays With Morrie: An old man, a young man,...</td>\n",
       "      <td>₹213.00</td>\n",
       "    </tr>\n",
       "  </tbody>\n",
       "</table>\n",
       "<p>67 rows × 2 columns</p>\n",
       "</div>"
      ],
      "text/plain": [
       "                                           book_names book_prices\n",
       "0             UP Constable MATHS by Aditya Ranjan Sir     ₹543.00\n",
       "1   My First Library: Boxset of 10 Board Books for...     ₹399.00\n",
       "2   Feel-Good Productivity: How to Do More of What...     ₹499.00\n",
       "3                                              Ikigai     ₹346.00\n",
       "4   The Power of Your Subconscious Mind: Original ...     ₹115.00\n",
       "..                                                ...         ...\n",
       "62  How to Win Friends and Influence People : Orig...      ₹99.00\n",
       "63            SSC GD (COMBO) MATH +REASONING+GK+HINDI     ₹399.00\n",
       "64  Animals Tales From Panchtantra: Timeless Stori...     ₹189.00\n",
       "65  World’s Greatest Books For Personal Growth & W...     ₹339.00\n",
       "66  Tuesdays With Morrie: An old man, a young man,...     ₹213.00\n",
       "\n",
       "[67 rows x 2 columns]"
      ]
     },
     "execution_count": 54,
     "metadata": {},
     "output_type": "execute_result"
    }
   ],
   "source": [
    "df"
   ]
  },
  {
   "cell_type": "code",
   "execution_count": 55,
   "id": "b28fd71b",
   "metadata": {},
   "outputs": [],
   "source": [
    "df.to_csv(\"Books_names_Prices\")"
   ]
  },
  {
   "cell_type": "code",
   "execution_count": null,
   "id": "41f0053f",
   "metadata": {},
   "outputs": [],
   "source": []
  },
  {
   "cell_type": "code",
   "execution_count": null,
   "id": "abf013ef",
   "metadata": {},
   "outputs": [],
   "source": []
  },
  {
   "cell_type": "code",
   "execution_count": null,
   "id": "9b1233e7",
   "metadata": {},
   "outputs": [],
   "source": []
  },
  {
   "cell_type": "code",
   "execution_count": 6,
   "id": "62b30cbd",
   "metadata": {},
   "outputs": [],
   "source": [
    "# book_name=driver.find_elements(By.XPATH,\"//div[ @class ='_cDEzb_p13n-sc-css-line-clamp-1_1Fn1y']\")\n",
    "# book_price=driver.find_elements(By.XPATH,\"//span[ @class ='_cDEzb_p13n-sc-price_3mJ9Z']\")"
   ]
  },
  {
   "cell_type": "code",
   "execution_count": 7,
   "id": "055640cc",
   "metadata": {},
   "outputs": [],
   "source": [
    "# for i in range(len(book_name)):\n",
    "#     columns['name'].append(book_name[i].text)\n",
    "#     columns['price'].append(book_price[i].text)"
   ]
  },
  {
   "cell_type": "code",
   "execution_count": 43,
   "id": "7b5369c7",
   "metadata": {},
   "outputs": [],
   "source": [
    "# if len(book_name) == len(book_price):\n",
    "#     # Store data in a list of dictionaries\n",
    "#     books_data = []\n",
    "\n",
    "#     for i in range(len(book_name)):\n",
    "#         name = book_name[i].text\n",
    "#         price = book_price[i].text\n",
    "#         books_data.append({\"Name\": name, \"Price\": price})\n",
    "\n",
    "#     # Save the data to a CSV file\n",
    "#     csv_file_path = \"D:\\iti\\dataprepration\\tasks.csv\"\n",
    "\n",
    "#     with open(\"D:\\iti\\dataprepration\\tasks.csv\", mode=\"w\", newline=\"\", encoding=\"utf-8\") as csv_file:\n",
    "#         fieldnames = [\"Name\", \"Price\"]\n",
    "#         writer = csv.DictWriter(csv_file, fieldnames=fieldnames)\n",
    "\n",
    "#         writer.writeheader()\n",
    "#         writer.writerows(books_data)\n",
    "\n",
    "#     print(f\"Scraping completed. Data saved to {csv_file_path}\")\n",
    "# else:\n",
    "#     print(\"Error: The lengths of book_name and book_price do not match.\")\n",
    "\n"
   ]
  },
  {
   "cell_type": "code",
   "execution_count": null,
   "id": "2e5b550d",
   "metadata": {},
   "outputs": [],
   "source": []
  },
  {
   "cell_type": "code",
   "execution_count": null,
   "id": "ed673285",
   "metadata": {},
   "outputs": [],
   "source": []
  },
  {
   "cell_type": "code",
   "execution_count": null,
   "id": "7d3f2085",
   "metadata": {},
   "outputs": [],
   "source": []
  },
  {
   "cell_type": "code",
   "execution_count": 9,
   "id": "832389e2",
   "metadata": {},
   "outputs": [],
   "source": [
    "# to close my broswer \n",
    "driver.close()"
   ]
  },
  {
   "cell_type": "code",
   "execution_count": null,
   "id": "26fdd139",
   "metadata": {},
   "outputs": [],
   "source": []
  }
 ],
 "metadata": {
  "kernelspec": {
   "display_name": "Python 3 (ipykernel)",
   "language": "python",
   "name": "python3"
  },
  "language_info": {
   "codemirror_mode": {
    "name": "ipython",
    "version": 3
   },
   "file_extension": ".py",
   "mimetype": "text/x-python",
   "name": "python",
   "nbconvert_exporter": "python",
   "pygments_lexer": "ipython3",
   "version": "3.11.5"
  }
 },
 "nbformat": 4,
 "nbformat_minor": 5
}
