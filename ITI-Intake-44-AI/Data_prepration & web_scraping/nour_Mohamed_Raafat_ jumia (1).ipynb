{
 "cells": [
  {
   "cell_type": "code",
   "execution_count": 1,
   "id": "8be5efa5",
   "metadata": {},
   "outputs": [],
   "source": [
    "from selenium import webdriver\n",
    "from selenium.webdriver.common.by import By\n",
    "from selenium.common.exceptions import NoSuchElementException\n",
    "import requests\n",
    "import urllib\n",
    "import time\n",
    "import pandas as pd"
   ]
  },
  {
   "cell_type": "code",
   "execution_count": 2,
   "id": "91badaff",
   "metadata": {},
   "outputs": [],
   "source": [
    "driver=webdriver.Chrome()"
   ]
  },
  {
   "cell_type": "code",
   "execution_count": 3,
   "id": "123b0ab1",
   "metadata": {},
   "outputs": [],
   "source": [
    "path=\"https://www.jumia.com.eg/catalog/?q=phone\"\n",
    "driver.get(path)"
   ]
  },
  {
   "cell_type": "code",
   "execution_count": 4,
   "id": "e67342a7",
   "metadata": {},
   "outputs": [],
   "source": [
    "time.sleep(10)"
   ]
  },
  {
   "cell_type": "code",
   "execution_count": 5,
   "id": "fb39d102",
   "metadata": {},
   "outputs": [],
   "source": [
    "my_items = driver.find_elements(By.XPATH, \"//article[@class='prd _fb col c-prd']\")"
   ]
  },
  {
   "cell_type": "code",
   "execution_count": 6,
   "id": "79f8565d",
   "metadata": {},
   "outputs": [],
   "source": [
    "# scroll dowen\n",
    "Height=0\n",
    "for i in range(12):\n",
    "    Height=Height+500\n",
    "    driver.execute_script(f\"window.scrollTo(0,{Height})\")\n",
    "    time.sleep(1)"
   ]
  },
  {
   "cell_type": "code",
   "execution_count": 7,
   "id": "c7a1a006",
   "metadata": {},
   "outputs": [],
   "source": [
    "all_pages=[]\n",
    "for i in range(1,20):\n",
    "    pages=path+\"&path=\"+str(i)\n",
    "    all_pages.append(pages)   "
   ]
  },
  {
   "cell_type": "code",
   "execution_count": null,
   "id": "b51d84d9",
   "metadata": {},
   "outputs": [],
   "source": [
    "product_names = []\n",
    "product_prices = []\n",
    "product_rates = []\n",
    "product_images = []\n",
    "product_image_links=[]\n",
    "\n",
    "for page in all_pages:\n",
    "    for item in my_items:\n",
    "        name=item.find_element(By.XPATH,\".//a[@class='core']/div[@class='info']/h3[@class='name']\").text\n",
    "        \n",
    "        try:\n",
    "            price = item.find_element(By.XPATH, \".//a[@class='core']/div[@class='info']/div[@class='prc']\").text\n",
    "        except NoSuchElementException:\n",
    "            price = \"none\"\n",
    "        try:\n",
    "            rate = item.find_element(By.XPATH, \".//a[@class='core']/div[@class='info']/div[@class='rev']/div\").text\n",
    "        except NoSuchElementException:\n",
    "            rate = \"none\"\n",
    "        \n",
    "        img_link=item.find_element(By.XPATH,\".//a[@class='core']/div[@class='img-c']/img\").get_attribute('src')\n",
    "        img=item.find_element(By.XPATH,\".//a[@class='core']/div[@class='img-c']/img\")\n",
    "        \n",
    "        if price != \"none\" and rate != \"none\":\n",
    "            product_names.append(name)\n",
    "            product_prices.append(price)\n",
    "            product_rates.append(rate.split(\"o\")[0])\n",
    "            product_image_links.append(img_link)\n",
    "            product_images.append(img)"
   ]
  },
  {
   "cell_type": "code",
   "execution_count": null,
   "id": "f1ac57d8",
   "metadata": {},
   "outputs": [],
   "source": [
    "my_data={\n",
    "    'product_name':product_names\n",
    "    ,'price':product_prices\n",
    "    ,'rating':product_rates\n",
    "    ,'iamge':product_image_links\n",
    "}\n",
    "\n",
    "df=pd.DataFrame(my_data)\n",
    "df"
   ]
  },
  {
   "cell_type": "code",
   "execution_count": null,
   "id": "b37d0574",
   "metadata": {},
   "outputs": [],
   "source": [
    "df"
   ]
  },
  {
   "cell_type": "code",
   "execution_count": null,
   "id": "a84f2f22",
   "metadata": {},
   "outputs": [],
   "source": [
    "df.head(10)"
   ]
  },
  {
   "cell_type": "code",
   "execution_count": null,
   "id": "9bc57347",
   "metadata": {},
   "outputs": [],
   "source": [
    "df.info()"
   ]
  },
  {
   "cell_type": "code",
   "execution_count": null,
   "id": "861eebdb",
   "metadata": {},
   "outputs": [],
   "source": [
    "# change rating and price into numeric\n",
    "# df['price'] = pd.to_numeric(df['price'].str.replace('₹',''))\n",
    "# df['price'] = pd.to_numeric(df['price'].str.extract('(\\d+,\\d+\\.\\d+|\\d+\\.\\d+|\\d+,?\\d*)')[0])\n",
    "df['rating'] = pd.to_numeric(df['rating'].str.split(' ').str[0])\n",
    "df.head()"
   ]
  },
  {
   "cell_type": "code",
   "execution_count": null,
   "id": "1076f14b",
   "metadata": {},
   "outputs": [],
   "source": [
    "df.to_csv(\"phones.csv\")"
   ]
  },
  {
   "cell_type": "code",
   "execution_count": null,
   "id": "9c0514e4",
   "metadata": {},
   "outputs": [],
   "source": [
    "# to close my broswer \n",
    "driver.close()"
   ]
  }
 ],
 "metadata": {
  "kernelspec": {
   "display_name": "Python 3 (ipykernel)",
   "language": "python",
   "name": "python3"
  },
  "language_info": {
   "codemirror_mode": {
    "name": "ipython",
    "version": 3
   },
   "file_extension": ".py",
   "mimetype": "text/x-python",
   "name": "python",
   "nbconvert_exporter": "python",
   "pygments_lexer": "ipython3",
   "version": "3.11.5"
  }
 },
 "nbformat": 4,
 "nbformat_minor": 5
}
