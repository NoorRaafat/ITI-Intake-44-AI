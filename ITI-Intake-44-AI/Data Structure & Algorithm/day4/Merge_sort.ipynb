{
 "cells": [
  {
   "cell_type": "code",
   "execution_count": 19,
   "id": "0d883164",
   "metadata": {},
   "outputs": [
    {
     "name": "stdout",
     "output_type": "stream",
     "text": [
      "[-50, -40, -20, -4, 0, 1, 2, 2, 3, 5]\n"
     ]
    }
   ],
   "source": [
    "def mergeSort(arr, start, end):\n",
    "    mid = (start + end) // 2\n",
    "    #there are more than one element in the sublist\n",
    "    if start < end:\n",
    "        #It recursively calls itself on the left half of the array (start to mid) and the right half of the array (mid+1 to end).\n",
    "        mergeSort(arr, start, mid)\n",
    "        mergeSort(arr, mid+1, end)\n",
    "        # calls the merge() function to merge the sorted halves.\n",
    "        merge(arr, start, mid, end)\n",
    "  #This function merges two sorted subarrays into a single sorted array.  \n",
    "def merge(arr, start, mid, end):\n",
    "\n",
    "    i = start\n",
    "    j = mid + 1\n",
    "    temp = []\n",
    "    while i <= mid and j <= end:\n",
    "        if arr[i] < arr[j]:\n",
    "            temp.append(arr[i])\n",
    "            i += 1\n",
    "        else:\n",
    "            temp.append(arr[j])\n",
    "            j += 1\n",
    "\n",
    "    temp.extend(arr[i:mid+1])\n",
    "    temp.extend(arr[j:end+1])\n",
    "\n",
    "    k = start\n",
    "    while k <= end:\n",
    "        arr[k] = temp[k-start]\n",
    "        k += 1\n",
    "\n",
    "\n",
    "arrNumbers = [-50, -40,-20, 1, 2, 3, 0, 5, -4, 2]\n",
    "mergeSort(arrNumbers, 0, len(arrNumbers) - 1)\n",
    "print(arrNumbers)\n"
   ]
  },
  {
   "cell_type": "code",
   "execution_count": 18,
   "id": "de9ba813",
   "metadata": {},
   "outputs": [],
   "source": [
    "#O(n log n)\n",
    "#Divide step: The array is divided into halves repeatedly until each sublist contains only one element. This process requires log n divisions, where n is the number of elements in the array.\n",
    "#Conquer step: After dividing the array into single-element sublists, the merging operation occurs. Merging two sorted sublists of size n each takes O(n) time.\n",
    "#Merge step: In the worst-case scenario, merging all the sublists at each level of recursion takes O(n) time.\n",
    "#Since there are log n levels of recursion and each level's merge operation takes O(n) time, the overall time complexity is O(n log n).\n",
    "\n",
    "#Therefore, the time complexity of the provided merge sort algorithm is O(n log n)."
   ]
  },
  {
   "cell_type": "code",
   "execution_count": 15,
   "id": "79786e7c",
   "metadata": {},
   "outputs": [],
   "source": [
    "# def Merge_Sort(arr,start,end):\n",
    "#     mid=(start+end) //2 \n",
    "#     if start< end:\n",
    "#         Merge_Sort(arr,start,mid)\n",
    "#         Merge_Sort(arr,mid+1,end)\n",
    "#         merge(arr,start,mid,end)\n",
    "# def merge(arr,start,mid,end):\n",
    "#     i=start\n",
    "#     j=mid+1\n",
    "#     temp=[]\n",
    "#     while i <= mid and j<= end:\n",
    "#         if arr[i]<arr[j]:\n",
    "#             temp.append(arr[i])\n",
    "#             i+=1\n",
    "#         else:\n",
    "#             temp.append(arr[j])\n",
    "#             j+=1\n",
    "#         temp.extend(arr[i:mid+1])\n",
    "#         temp.extend(arr[j:end+1])\n",
    "#         k=start\n",
    "#         while k <= end:\n",
    "#             arr[k]=temp[k-start]\n",
    "#             k+=1\n",
    "# arr_numbers = [-40, -30, 1, 2, 3, 0, 8, -4, 2]\n",
    "# Merge_Sort(arr_numbers, 0, len(arr_numbers) - 1)\n",
    "# print(arr_numbers)"
   ]
  },
  {
   "cell_type": "code",
   "execution_count": null,
   "id": "f8932096",
   "metadata": {},
   "outputs": [],
   "source": []
  }
 ],
 "metadata": {
  "kernelspec": {
   "display_name": "Python 3 (ipykernel)",
   "language": "python",
   "name": "python3"
  },
  "language_info": {
   "codemirror_mode": {
    "name": "ipython",
    "version": 3
   },
   "file_extension": ".py",
   "mimetype": "text/x-python",
   "name": "python",
   "nbconvert_exporter": "python",
   "pygments_lexer": "ipython3",
   "version": "3.11.5"
  }
 },
 "nbformat": 4,
 "nbformat_minor": 5
}
