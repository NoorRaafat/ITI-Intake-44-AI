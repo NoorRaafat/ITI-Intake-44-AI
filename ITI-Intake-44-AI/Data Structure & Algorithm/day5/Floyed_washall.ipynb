{
 "cells": [
  {
   "cell_type": "code",
   "execution_count": 1,
   "id": "933a8537",
   "metadata": {},
   "outputs": [
    {
     "name": "stdout",
     "output_type": "stream",
     "text": [
      "[0, 5, 8, 9]\n",
      "[inf, 0, 3, 4]\n",
      "[inf, inf, 0, 1]\n",
      "[inf, inf, inf, 0]\n"
     ]
    }
   ],
   "source": [
    "INF = float('inf')\n",
    "\n",
    "def floyd_warshall(graph):\n",
    "    n = len(graph)\n",
    "    \n",
    "    # Initialize distance matrix\n",
    "    dist = [[0] * n for _ in range(n)]\n",
    "    for i in range(n):\n",
    "        for j in range(n):\n",
    "            if i == j:\n",
    "                dist[i][j] = 0\n",
    "            elif graph[i][j] != 0:\n",
    "                dist[i][j] = graph[i][j]\n",
    "            else:\n",
    "                dist[i][j] = INF\n",
    "    \n",
    "    # Update distances using intermediate vertices\n",
    "    for k in range(n):\n",
    "        for i in range(n):\n",
    "            for j in range(n):\n",
    "                if dist[i][k] + dist[k][j] < dist[i][j]:\n",
    "                    dist[i][j] = dist[i][k] + dist[k][j]\n",
    "    \n",
    "    return dist\n",
    "\n",
    "# Example usage:\n",
    "graph = [\n",
    "    [0, 5, INF, 10],\n",
    "    [INF, 0, 3, INF],\n",
    "    [INF, INF, 0, 1],\n",
    "    [INF, INF, INF, 0]\n",
    "]\n",
    "\n",
    "shortest_paths = floyd_warshall(graph)\n",
    "for row in shortest_paths:\n",
    "    print(row)\n"
   ]
  },
  {
   "cell_type": "code",
   "execution_count": null,
   "id": "2b46275a",
   "metadata": {},
   "outputs": [],
   "source": []
  }
 ],
 "metadata": {
  "kernelspec": {
   "display_name": "Python 3 (ipykernel)",
   "language": "python",
   "name": "python3"
  },
  "language_info": {
   "codemirror_mode": {
    "name": "ipython",
    "version": 3
   },
   "file_extension": ".py",
   "mimetype": "text/x-python",
   "name": "python",
   "nbconvert_exporter": "python",
   "pygments_lexer": "ipython3",
   "version": "3.11.5"
  }
 },
 "nbformat": 4,
 "nbformat_minor": 5
}
