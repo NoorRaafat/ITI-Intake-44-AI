{
 "cells": [
  {
   "cell_type": "markdown",
   "id": "c62d2aef",
   "metadata": {},
   "source": [
    "#### SUDO STEPS FOR IMPLEMENATION"
   ]
  },
  {
   "cell_type": "code",
   "execution_count": 15,
   "id": "d2403b27",
   "metadata": {},
   "outputs": [],
   "source": [
    "\n",
    "# # Node for a binary tree \n",
    "# class Node:\n",
    "#     def __init__(self,val):\n",
    "#         # each node should have 3 attributes \n",
    "#         # 1- val: represent the value of the node \n",
    "#         # 2- represnt the left child node \n",
    "#         # 3-represent the last child node \n",
    "#         self.left=None\n",
    "#         self.right=None\n",
    "#         self.val=val\n",
    "# # contain three different types of tree traversal: InOrder, PreOrder, and PostOrder.\n",
    "# #Each traversal method takes the root of the tree as input and performs the respective traversal recursively.\n",
    "# class Tree_Travesel:\n",
    "#     #we recursively visit the left subtree, then the root, and finally the right subtree.\n",
    "#     #The InOrder method takes the root node as input and prints the values of nodes in the tree in InOrder traversal.\n",
    "#     def In_order(self,root):\n",
    "#         # check to ensure we're not operating on an empty subtree\n",
    "#         if root:\n",
    "#             #ensures that we traverse the left subtree of the current node first.\n",
    "#             self.In_order(root.left)\n",
    "#             #we print the value of the current node (root.val).\n",
    "#             print(root.val)\n",
    "#             #step ensures that we traverse the right subtree of the current node.\n",
    "#             self.In_order(self.right)\n",
    "#             #will stop, at leaf node, both root.left and root.right will be None,not execute any further recursive calls.\n",
    "            \n",
    "\n",
    "#     #in a pre-order traversal, we visit the root node first.\n",
    "#     def pre_order(self,root):\n",
    "     \n",
    "#         if root:\n",
    "#             print(root.val)\n",
    "#             #ensures that we traverse the left subtree \n",
    "#             self.pre_order(root.left)\n",
    "#             self,pre_order(root.right)\n",
    "    \n",
    "    \n",
    "#     def Post_order(self,root):\n",
    "#         if root:\n",
    "#             self.Post_order(root.left)\n",
    "#             self.Post_order(root.right)\n",
    "#             print(root.val)"
   ]
  },
  {
   "cell_type": "code",
   "execution_count": 14,
   "id": "b3ec9c44",
   "metadata": {},
   "outputs": [
    {
     "name": "stdout",
     "output_type": "stream",
     "text": [
      "**********InOrder**********\n",
      "4\n",
      "2\n",
      "5\n",
      "1\n",
      "6\n",
      "3\n",
      "7\n",
      "**********PreOrder**********\n",
      "1\n",
      "2\n",
      "4\n",
      "5\n",
      "3\n",
      "6\n",
      "7\n",
      "**********PostOrder**********\n",
      "4\n",
      "5\n",
      "2\n",
      "6\n",
      "7\n",
      "3\n",
      "1\n"
     ]
    }
   ],
   "source": [
    "class Node:\n",
    "    def __init__(self, val):\n",
    "        self.left = None\n",
    "        self.right = None\n",
    "        self.val = val\n",
    "class TreeTraversal:\n",
    "    def InOrder(self, root):\n",
    "        if root:\n",
    "            self.InOrder(root.left)\n",
    "            print(root.val)\n",
    "            self.InOrder(root.right)\n",
    "    def PreOrder(self, root):\n",
    "        if root:\n",
    "            print(root.val)\n",
    "            self.PreOrder(root.left)\n",
    "            self.PreOrder(root.right)\n",
    "    def PostOrder(self, root):\n",
    "        if root:\n",
    "            self.PostOrder(root.left)\n",
    "            self.PostOrder(root.right)\n",
    "            print(root.val)\n",
    "\n",
    "\n",
    "root = Node(1)\n",
    "root.left = Node(2)\n",
    "root.right = Node(3)\n",
    "root.left.left = Node(4)\n",
    "root.left.right = Node(5)\n",
    "root.right.left = Node(6)\n",
    "root.right.right = Node(7)\n",
    "\n",
    "traversal = TreeTraversal()\n",
    "print('*'*10 + 'InOrder' + '*'*10)\n",
    "traversal.InOrder(root)\n",
    "print('*'*10 + 'PreOrder' + '*'*10)\n",
    "traversal.PreOrder(root)\n",
    "print('*'*10 + 'PostOrder' + '*'*10)\n",
    "traversal.PostOrder(root)"
   ]
  },
  {
   "cell_type": "code",
   "execution_count": 5,
   "id": "cb7f3fbb",
   "metadata": {},
   "outputs": [],
   "source": [
    "# draw a tree \n",
    "# pre order : F A E K C D H G B \n",
    "# in order : E A C K F H D B C"
   ]
  },
  {
   "cell_type": "code",
   "execution_count": 18,
   "id": "fafb9771",
   "metadata": {},
   "outputs": [],
   "source": [
    "#        F\n",
    "#       / \\\n",
    "#      A   D\n",
    "#     / \\  / \\\n",
    "#    E   K H  G\n",
    "#        \\    \\b\n",
    "#         c\n"
   ]
  },
  {
   "cell_type": "code",
   "execution_count": null,
   "id": "a9362d9a",
   "metadata": {},
   "outputs": [],
   "source": []
  }
 ],
 "metadata": {
  "kernelspec": {
   "display_name": "Python 3 (ipykernel)",
   "language": "python",
   "name": "python3"
  },
  "language_info": {
   "codemirror_mode": {
    "name": "ipython",
    "version": 3
   },
   "file_extension": ".py",
   "mimetype": "text/x-python",
   "name": "python",
   "nbconvert_exporter": "python",
   "pygments_lexer": "ipython3",
   "version": "3.11.5"
  }
 },
 "nbformat": 4,
 "nbformat_minor": 5
}
